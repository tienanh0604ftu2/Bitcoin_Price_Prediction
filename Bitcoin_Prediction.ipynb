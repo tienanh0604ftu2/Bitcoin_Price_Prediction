{
 "cells": [
  {
   "cell_type": "markdown",
   "id": "e8a04d11-00eb-44a4-85fe-b0c86db41af1",
   "metadata": {},
   "source": [
    "# Step\n",
    "- Data exploration\n",
    "- EDA (Exploratory data analysis)\n",
    "- Feature Engineering\n",
    "- Transformation\n",
    "- Splitting the data into train test sets\n",
    "- Build our NN model\n",
    "- Predict the test data and find accuracy\n",
    "- Predict the feature data\n",
    "- Create the web app for model using streamlit"
   ]
  },
  {
   "cell_type": "code",
   "execution_count": null,
   "id": "c0f55910-8937-4d6e-97dc-6122456506db",
   "metadata": {},
   "outputs": [],
   "source": []
  },
  {
   "cell_type": "code",
   "execution_count": 54,
   "id": "eeee2cce-129d-4658-ac7e-a63abd658490",
   "metadata": {},
   "outputs": [
    {
     "name": "stdout",
     "output_type": "stream",
     "text": [
      "Defaulting to user installation because normal site-packages is not writeable\n",
      "Requirement already satisfied: yfinance in c:\\users\\admin\\appdata\\roaming\\python\\python311\\site-packages (0.2.41)\n",
      "Requirement already satisfied: pandas>=1.3.0 in c:\\users\\admin\\appdata\\roaming\\python\\python311\\site-packages (from yfinance) (1.5.3)\n",
      "Requirement already satisfied: numpy>=1.16.5 in d:\\anaconda navigator\\lib\\site-packages (from yfinance) (1.26.4)\n",
      "Requirement already satisfied: requests>=2.31 in d:\\anaconda navigator\\lib\\site-packages (from yfinance) (2.31.0)\n",
      "Requirement already satisfied: multitasking>=0.0.7 in c:\\users\\admin\\appdata\\roaming\\python\\python311\\site-packages (from yfinance) (0.0.11)\n",
      "Requirement already satisfied: lxml>=4.9.1 in d:\\anaconda navigator\\lib\\site-packages (from yfinance) (4.9.3)\n",
      "Requirement already satisfied: platformdirs>=2.0.0 in d:\\anaconda navigator\\lib\\site-packages (from yfinance) (3.10.0)\n",
      "Requirement already satisfied: pytz>=2022.5 in d:\\anaconda navigator\\lib\\site-packages (from yfinance) (2023.3.post1)\n",
      "Requirement already satisfied: frozendict>=2.3.4 in c:\\users\\admin\\appdata\\roaming\\python\\python311\\site-packages (from yfinance) (2.4.4)\n",
      "Requirement already satisfied: peewee>=3.16.2 in c:\\users\\admin\\appdata\\roaming\\python\\python311\\site-packages (from yfinance) (3.17.6)\n",
      "Requirement already satisfied: beautifulsoup4>=4.11.1 in c:\\users\\admin\\appdata\\roaming\\python\\python311\\site-packages (from yfinance) (4.12.3)\n",
      "Requirement already satisfied: html5lib>=1.1 in c:\\users\\admin\\appdata\\roaming\\python\\python311\\site-packages (from yfinance) (1.1)\n",
      "Requirement already satisfied: soupsieve>1.2 in d:\\anaconda navigator\\lib\\site-packages (from beautifulsoup4>=4.11.1->yfinance) (2.5)\n",
      "Requirement already satisfied: six>=1.9 in d:\\anaconda navigator\\lib\\site-packages (from html5lib>=1.1->yfinance) (1.16.0)\n",
      "Requirement already satisfied: webencodings in d:\\anaconda navigator\\lib\\site-packages (from html5lib>=1.1->yfinance) (0.5.1)\n",
      "Requirement already satisfied: python-dateutil>=2.8.1 in d:\\anaconda navigator\\lib\\site-packages (from pandas>=1.3.0->yfinance) (2.8.2)\n",
      "Requirement already satisfied: charset-normalizer<4,>=2 in d:\\anaconda navigator\\lib\\site-packages (from requests>=2.31->yfinance) (2.0.4)\n",
      "Requirement already satisfied: idna<4,>=2.5 in d:\\anaconda navigator\\lib\\site-packages (from requests>=2.31->yfinance) (3.4)\n",
      "Requirement already satisfied: urllib3<3,>=1.21.1 in d:\\anaconda navigator\\lib\\site-packages (from requests>=2.31->yfinance) (2.0.7)\n",
      "Requirement already satisfied: certifi>=2017.4.17 in d:\\anaconda navigator\\lib\\site-packages (from requests>=2.31->yfinance) (2024.2.2)\n"
     ]
    }
   ],
   "source": [
    "!pip install yfinance"
   ]
  },
  {
   "cell_type": "code",
   "execution_count": null,
   "id": "e3142866-c740-4ced-b2dc-83ed0d3d84d9",
   "metadata": {},
   "outputs": [],
   "source": []
  },
  {
   "cell_type": "code",
   "execution_count": 55,
   "id": "584678d1-6b0a-4717-b79b-fb7f017d936b",
   "metadata": {},
   "outputs": [],
   "source": [
    "import yfinance as yf\n",
    "# BTC - USD\n",
    "import numpy as np\n",
    "import pandas as pd\n",
    "from matplotlib import pyplot as plt"
   ]
  },
  {
   "cell_type": "code",
   "execution_count": null,
   "id": "6b0cb484-fcbb-44be-9d29-a24663e01442",
   "metadata": {},
   "outputs": [],
   "source": []
  },
  {
   "cell_type": "code",
   "execution_count": 56,
   "id": "08538371-7bec-487b-8020-84d4e61416e2",
   "metadata": {},
   "outputs": [
    {
     "name": "stderr",
     "output_type": "stream",
     "text": [
      "[*********************100%%**********************]  1 of 1 completed\n"
     ]
    },
    {
     "data": {
      "text/html": [
       "<div>\n",
       "<style scoped>\n",
       "    .dataframe tbody tr th:only-of-type {\n",
       "        vertical-align: middle;\n",
       "    }\n",
       "\n",
       "    .dataframe tbody tr th {\n",
       "        vertical-align: top;\n",
       "    }\n",
       "\n",
       "    .dataframe thead th {\n",
       "        text-align: right;\n",
       "    }\n",
       "</style>\n",
       "<table border=\"1\" class=\"dataframe\">\n",
       "  <thead>\n",
       "    <tr style=\"text-align: right;\">\n",
       "      <th></th>\n",
       "      <th>Open</th>\n",
       "      <th>High</th>\n",
       "      <th>Low</th>\n",
       "      <th>Close</th>\n",
       "      <th>Adj Close</th>\n",
       "      <th>Volume</th>\n",
       "    </tr>\n",
       "    <tr>\n",
       "      <th>Date</th>\n",
       "      <th></th>\n",
       "      <th></th>\n",
       "      <th></th>\n",
       "      <th></th>\n",
       "      <th></th>\n",
       "      <th></th>\n",
       "    </tr>\n",
       "  </thead>\n",
       "  <tbody>\n",
       "    <tr>\n",
       "      <th>2014-09-17</th>\n",
       "      <td>465.864014</td>\n",
       "      <td>468.174011</td>\n",
       "      <td>452.421997</td>\n",
       "      <td>457.334015</td>\n",
       "      <td>457.334015</td>\n",
       "      <td>21056800</td>\n",
       "    </tr>\n",
       "    <tr>\n",
       "      <th>2014-09-18</th>\n",
       "      <td>456.859985</td>\n",
       "      <td>456.859985</td>\n",
       "      <td>413.104004</td>\n",
       "      <td>424.440002</td>\n",
       "      <td>424.440002</td>\n",
       "      <td>34483200</td>\n",
       "    </tr>\n",
       "    <tr>\n",
       "      <th>2014-09-19</th>\n",
       "      <td>424.102997</td>\n",
       "      <td>427.834991</td>\n",
       "      <td>384.532013</td>\n",
       "      <td>394.795990</td>\n",
       "      <td>394.795990</td>\n",
       "      <td>37919700</td>\n",
       "    </tr>\n",
       "    <tr>\n",
       "      <th>2014-09-20</th>\n",
       "      <td>394.673004</td>\n",
       "      <td>423.295990</td>\n",
       "      <td>389.882996</td>\n",
       "      <td>408.903992</td>\n",
       "      <td>408.903992</td>\n",
       "      <td>36863600</td>\n",
       "    </tr>\n",
       "    <tr>\n",
       "      <th>2014-09-21</th>\n",
       "      <td>408.084991</td>\n",
       "      <td>412.425995</td>\n",
       "      <td>393.181000</td>\n",
       "      <td>398.821014</td>\n",
       "      <td>398.821014</td>\n",
       "      <td>26580100</td>\n",
       "    </tr>\n",
       "  </tbody>\n",
       "</table>\n",
       "</div>"
      ],
      "text/plain": [
       "                  Open        High         Low       Close   Adj Close  \\\n",
       "Date                                                                     \n",
       "2014-09-17  465.864014  468.174011  452.421997  457.334015  457.334015   \n",
       "2014-09-18  456.859985  456.859985  413.104004  424.440002  424.440002   \n",
       "2014-09-19  424.102997  427.834991  384.532013  394.795990  394.795990   \n",
       "2014-09-20  394.673004  423.295990  389.882996  408.903992  408.903992   \n",
       "2014-09-21  408.084991  412.425995  393.181000  398.821014  398.821014   \n",
       "\n",
       "              Volume  \n",
       "Date                  \n",
       "2014-09-17  21056800  \n",
       "2014-09-18  34483200  \n",
       "2014-09-19  37919700  \n",
       "2014-09-20  36863600  \n",
       "2014-09-21  26580100  "
      ]
     },
     "execution_count": 56,
     "metadata": {},
     "output_type": "execute_result"
    }
   ],
   "source": [
    "from datetime import datetime\n",
    "end = datetime.now()\n",
    "start = datetime(end.year - 10, end.month, end.day)\n",
    "stock = \"BTC-USD\"\n",
    "bit_coin_data = yf.download(stock, start, end)\n",
    "bit_coin_data.head()"
   ]
  },
  {
   "cell_type": "code",
   "execution_count": null,
   "id": "3209efc1-4965-45ba-af1f-7ca7846ef028",
   "metadata": {},
   "outputs": [],
   "source": []
  },
  {
   "cell_type": "code",
   "execution_count": 57,
   "id": "6f58d69b-303e-4862-9320-a7d7925c7568",
   "metadata": {},
   "outputs": [
    {
     "data": {
      "text/html": [
       "<div>\n",
       "<style scoped>\n",
       "    .dataframe tbody tr th:only-of-type {\n",
       "        vertical-align: middle;\n",
       "    }\n",
       "\n",
       "    .dataframe tbody tr th {\n",
       "        vertical-align: top;\n",
       "    }\n",
       "\n",
       "    .dataframe thead th {\n",
       "        text-align: right;\n",
       "    }\n",
       "</style>\n",
       "<table border=\"1\" class=\"dataframe\">\n",
       "  <thead>\n",
       "    <tr style=\"text-align: right;\">\n",
       "      <th></th>\n",
       "      <th>Open</th>\n",
       "      <th>High</th>\n",
       "      <th>Low</th>\n",
       "      <th>Close</th>\n",
       "      <th>Adj Close</th>\n",
       "      <th>Volume</th>\n",
       "    </tr>\n",
       "  </thead>\n",
       "  <tbody>\n",
       "    <tr>\n",
       "      <th>count</th>\n",
       "      <td>3632.000000</td>\n",
       "      <td>3632.000000</td>\n",
       "      <td>3632.000000</td>\n",
       "      <td>3632.000000</td>\n",
       "      <td>3632.000000</td>\n",
       "      <td>3.632000e+03</td>\n",
       "    </tr>\n",
       "    <tr>\n",
       "      <th>mean</th>\n",
       "      <td>17561.391906</td>\n",
       "      <td>17962.030054</td>\n",
       "      <td>17134.724874</td>\n",
       "      <td>17577.723695</td>\n",
       "      <td>17577.723695</td>\n",
       "      <td>1.753927e+10</td>\n",
       "    </tr>\n",
       "    <tr>\n",
       "      <th>std</th>\n",
       "      <td>19422.309663</td>\n",
       "      <td>19859.960880</td>\n",
       "      <td>18944.805820</td>\n",
       "      <td>19433.577565</td>\n",
       "      <td>19433.577565</td>\n",
       "      <td>1.919636e+10</td>\n",
       "    </tr>\n",
       "    <tr>\n",
       "      <th>min</th>\n",
       "      <td>176.897003</td>\n",
       "      <td>211.731003</td>\n",
       "      <td>171.509995</td>\n",
       "      <td>178.102997</td>\n",
       "      <td>178.102997</td>\n",
       "      <td>5.914570e+06</td>\n",
       "    </tr>\n",
       "    <tr>\n",
       "      <th>25%</th>\n",
       "      <td>1124.520050</td>\n",
       "      <td>1165.457489</td>\n",
       "      <td>1102.349976</td>\n",
       "      <td>1131.132507</td>\n",
       "      <td>1131.132507</td>\n",
       "      <td>2.789338e+08</td>\n",
       "    </tr>\n",
       "    <tr>\n",
       "      <th>50%</th>\n",
       "      <td>9079.531250</td>\n",
       "      <td>9264.639648</td>\n",
       "      <td>8832.564453</td>\n",
       "      <td>9084.533203</td>\n",
       "      <td>9084.533203</td>\n",
       "      <td>1.373367e+10</td>\n",
       "    </tr>\n",
       "    <tr>\n",
       "      <th>75%</th>\n",
       "      <td>28864.016113</td>\n",
       "      <td>29348.497559</td>\n",
       "      <td>28304.532227</td>\n",
       "      <td>28861.938965</td>\n",
       "      <td>28861.938965</td>\n",
       "      <td>2.835151e+10</td>\n",
       "    </tr>\n",
       "    <tr>\n",
       "      <th>max</th>\n",
       "      <td>73079.375000</td>\n",
       "      <td>73750.070312</td>\n",
       "      <td>71334.093750</td>\n",
       "      <td>73083.500000</td>\n",
       "      <td>73083.500000</td>\n",
       "      <td>3.509679e+11</td>\n",
       "    </tr>\n",
       "  </tbody>\n",
       "</table>\n",
       "</div>"
      ],
      "text/plain": [
       "               Open          High           Low         Close     Adj Close  \\\n",
       "count   3632.000000   3632.000000   3632.000000   3632.000000   3632.000000   \n",
       "mean   17561.391906  17962.030054  17134.724874  17577.723695  17577.723695   \n",
       "std    19422.309663  19859.960880  18944.805820  19433.577565  19433.577565   \n",
       "min      176.897003    211.731003    171.509995    178.102997    178.102997   \n",
       "25%     1124.520050   1165.457489   1102.349976   1131.132507   1131.132507   \n",
       "50%     9079.531250   9264.639648   8832.564453   9084.533203   9084.533203   \n",
       "75%    28864.016113  29348.497559  28304.532227  28861.938965  28861.938965   \n",
       "max    73079.375000  73750.070312  71334.093750  73083.500000  73083.500000   \n",
       "\n",
       "             Volume  \n",
       "count  3.632000e+03  \n",
       "mean   1.753927e+10  \n",
       "std    1.919636e+10  \n",
       "min    5.914570e+06  \n",
       "25%    2.789338e+08  \n",
       "50%    1.373367e+10  \n",
       "75%    2.835151e+10  \n",
       "max    3.509679e+11  "
      ]
     },
     "execution_count": 57,
     "metadata": {},
     "output_type": "execute_result"
    }
   ],
   "source": [
    "bit_coin_data.describe()"
   ]
  },
  {
   "cell_type": "code",
   "execution_count": null,
   "id": "cbf53c19-0d86-4a32-8e01-c4444ad08a2a",
   "metadata": {},
   "outputs": [],
   "source": []
  },
  {
   "cell_type": "code",
   "execution_count": 58,
   "id": "5c1c8263-a0f2-4f28-bc93-44888ca74c81",
   "metadata": {},
   "outputs": [
    {
     "name": "stdout",
     "output_type": "stream",
     "text": [
      "<class 'pandas.core.frame.DataFrame'>\n",
      "DatetimeIndex: 3632 entries, 2014-09-17 to 2024-08-26\n",
      "Data columns (total 6 columns):\n",
      " #   Column     Non-Null Count  Dtype  \n",
      "---  ------     --------------  -----  \n",
      " 0   Open       3632 non-null   float64\n",
      " 1   High       3632 non-null   float64\n",
      " 2   Low        3632 non-null   float64\n",
      " 3   Close      3632 non-null   float64\n",
      " 4   Adj Close  3632 non-null   float64\n",
      " 5   Volume     3632 non-null   int64  \n",
      "dtypes: float64(5), int64(1)\n",
      "memory usage: 198.6 KB\n"
     ]
    }
   ],
   "source": [
    "bit_coin_data.info()"
   ]
  },
  {
   "cell_type": "code",
   "execution_count": null,
   "id": "4e187061-01fe-44aa-97ed-d184f6bb44ce",
   "metadata": {},
   "outputs": [],
   "source": []
  },
  {
   "cell_type": "code",
   "execution_count": 59,
   "id": "6026eb9b-0a1d-4b73-8914-e9de88c70311",
   "metadata": {},
   "outputs": [
    {
     "data": {
      "text/plain": [
       "Open         0\n",
       "High         0\n",
       "Low          0\n",
       "Close        0\n",
       "Adj Close    0\n",
       "Volume       0\n",
       "dtype: int64"
      ]
     },
     "execution_count": 59,
     "metadata": {},
     "output_type": "execute_result"
    }
   ],
   "source": [
    "bit_coin_data.isna().sum()"
   ]
  },
  {
   "cell_type": "code",
   "execution_count": null,
   "id": "a620acbe-4e97-433a-ad4d-c803d52975f0",
   "metadata": {},
   "outputs": [],
   "source": []
  },
  {
   "cell_type": "code",
   "execution_count": 60,
   "id": "e78e7f6d-8722-44e1-8888-6fb1cf906fc6",
   "metadata": {},
   "outputs": [
    {
     "data": {
      "text/html": [
       "<div>\n",
       "<style scoped>\n",
       "    .dataframe tbody tr th:only-of-type {\n",
       "        vertical-align: middle;\n",
       "    }\n",
       "\n",
       "    .dataframe tbody tr th {\n",
       "        vertical-align: top;\n",
       "    }\n",
       "\n",
       "    .dataframe thead th {\n",
       "        text-align: right;\n",
       "    }\n",
       "</style>\n",
       "<table border=\"1\" class=\"dataframe\">\n",
       "  <thead>\n",
       "    <tr style=\"text-align: right;\">\n",
       "      <th></th>\n",
       "      <th>Close</th>\n",
       "    </tr>\n",
       "    <tr>\n",
       "      <th>Date</th>\n",
       "      <th></th>\n",
       "    </tr>\n",
       "  </thead>\n",
       "  <tbody>\n",
       "    <tr>\n",
       "      <th>2014-09-17</th>\n",
       "      <td>457.334015</td>\n",
       "    </tr>\n",
       "    <tr>\n",
       "      <th>2014-09-18</th>\n",
       "      <td>424.440002</td>\n",
       "    </tr>\n",
       "    <tr>\n",
       "      <th>2014-09-19</th>\n",
       "      <td>394.795990</td>\n",
       "    </tr>\n",
       "    <tr>\n",
       "      <th>2014-09-20</th>\n",
       "      <td>408.903992</td>\n",
       "    </tr>\n",
       "    <tr>\n",
       "      <th>2014-09-21</th>\n",
       "      <td>398.821014</td>\n",
       "    </tr>\n",
       "    <tr>\n",
       "      <th>...</th>\n",
       "      <td>...</td>\n",
       "    </tr>\n",
       "    <tr>\n",
       "      <th>2024-08-22</th>\n",
       "      <td>60381.914062</td>\n",
       "    </tr>\n",
       "    <tr>\n",
       "      <th>2024-08-23</th>\n",
       "      <td>64094.355469</td>\n",
       "    </tr>\n",
       "    <tr>\n",
       "      <th>2024-08-24</th>\n",
       "      <td>64178.992188</td>\n",
       "    </tr>\n",
       "    <tr>\n",
       "      <th>2024-08-25</th>\n",
       "      <td>64333.542969</td>\n",
       "    </tr>\n",
       "    <tr>\n",
       "      <th>2024-08-26</th>\n",
       "      <td>63934.738281</td>\n",
       "    </tr>\n",
       "  </tbody>\n",
       "</table>\n",
       "<p>3632 rows × 1 columns</p>\n",
       "</div>"
      ],
      "text/plain": [
       "                   Close\n",
       "Date                    \n",
       "2014-09-17    457.334015\n",
       "2014-09-18    424.440002\n",
       "2014-09-19    394.795990\n",
       "2014-09-20    408.903992\n",
       "2014-09-21    398.821014\n",
       "...                  ...\n",
       "2024-08-22  60381.914062\n",
       "2024-08-23  64094.355469\n",
       "2024-08-24  64178.992188\n",
       "2024-08-25  64333.542969\n",
       "2024-08-26  63934.738281\n",
       "\n",
       "[3632 rows x 1 columns]"
      ]
     },
     "execution_count": 60,
     "metadata": {},
     "output_type": "execute_result"
    }
   ],
   "source": [
    "Closing_price = bit_coin_data[[\"Close\"]]\n",
    "Closing_price"
   ]
  },
  {
   "cell_type": "code",
   "execution_count": null,
   "id": "d8014855-fc49-4cfc-a03c-4fdf8a9834e0",
   "metadata": {},
   "outputs": [],
   "source": []
  },
  {
   "cell_type": "code",
   "execution_count": 61,
   "id": "037c85b8-25cd-496a-b9f8-a33296571754",
   "metadata": {},
   "outputs": [],
   "source": [
    "import seaborn as sns\n",
    "%matplotlib inline\n",
    "sns.set_theme()"
   ]
  },
  {
   "cell_type": "code",
   "execution_count": 62,
   "id": "18640a35-bc37-437d-92f9-81478cf0c182",
   "metadata": {},
   "outputs": [
    {
     "data": {
      "image/png": "[encoded data removed]",
      "text/plain": [
       "<Figure size 1500x500 with 1 Axes>"
      ]
     },
     "metadata": {},
     "output_type": "display_data"
    }
   ],
   "source": [
    "plt.figure(figsize = (15,5))\n",
    "Closing_price[\"Close\"].plot()\n",
    "plt.xlabel(\"Years\")\n",
    "plt.ylabel(\"Close Price\")\n",
    "plt.title(\"Close Price of Bitcoin\");"
   ]
  },
  {
   "cell_type": "code",
   "execution_count": null,
   "id": "e0f5b7e8-ea24-4fe7-b273-e78a981df27a",
   "metadata": {},
   "outputs": [],
   "source": []
  },
  {
   "cell_type": "code",
   "execution_count": null,
   "id": "33d6935e-e499-470f-95a5-63ead5fd4e0d",
   "metadata": {},
   "outputs": [],
   "source": []
  },
  {
   "cell_type": "code",
   "execution_count": 63,
   "id": "b5012e02-605b-469a-89ac-42c6f35decd6",
   "metadata": {},
   "outputs": [
    {
     "name": "stdout",
     "output_type": "stream",
     "text": [
      "The number days of 2014 106 days\n",
      "The number days of 2015 365 days\n",
      "The number days of 2016 366 days\n",
      "The number days of 2017 365 days\n",
      "The number days of 2018 365 days\n",
      "The number days of 2019 365 days\n",
      "The number days of 2020 366 days\n",
      "The number days of 2021 365 days\n",
      "The number days of 2022 365 days\n",
      "The number days of 2023 365 days\n",
      "The number days of 2024 239 days\n"
     ]
    }
   ],
   "source": [
    "# Check number days of each year\n",
    "for i in range(2014, 2025):\n",
    "    print(f\"The number days of {i} {list(Closing_price.index.year).count(i)} days\")"
   ]
  },
  {
   "cell_type": "code",
   "execution_count": null,
   "id": "6f5fea19-f213-4568-b10f-a2cddc44a1a2",
   "metadata": {},
   "outputs": [],
   "source": []
  },
  {
   "cell_type": "code",
   "execution_count": 64,
   "id": "0cc3e369-2914-40a0-8dcd-a1138fdc90a0",
   "metadata": {},
   "outputs": [
    {
     "name": "stderr",
     "output_type": "stream",
     "text": [
      "C:\\Users\\Admin\\AppData\\Local\\Temp\\ipykernel_18172\\4246168655.py:1: SettingWithCopyWarning: \n",
      "A value is trying to be set on a copy of a slice from a DataFrame.\n",
      "Try using .loc[row_indexer,col_indexer] = value instead\n",
      "\n",
      "See the caveats in the documentation: https://pandas.pydata.org/pandas-docs/stable/user_guide/indexing.html#returning-a-view-versus-a-copy\n",
      "  Closing_price[\"MA_for_365_days\"] = Closing_price.rolling(365).mean()\n"
     ]
    },
    {
     "data": {
      "text/plain": [
       "Date\n",
       "2014-09-17             NaN\n",
       "2014-09-18             NaN\n",
       "2014-09-19             NaN\n",
       "2014-09-20             NaN\n",
       "2014-09-21             NaN\n",
       "                  ...     \n",
       "2024-08-22    50534.799765\n",
       "2024-08-23    50638.723004\n",
       "2024-08-24    50743.192385\n",
       "2024-08-25    50848.192605\n",
       "2024-08-26    50951.877659\n",
       "Name: MA_for_365_days, Length: 3632, dtype: float64"
      ]
     },
     "execution_count": 64,
     "metadata": {},
     "output_type": "execute_result"
    }
   ],
   "source": [
    "Closing_price[\"MA_for_365_days\"] = Closing_price.rolling(365).mean()\n",
    "Closing_price[\"MA_for_365_days\"]"
   ]
  },
  {
   "cell_type": "code",
   "execution_count": null,
   "id": "5e8077c5-f345-4b88-a9d8-35096472277d",
   "metadata": {},
   "outputs": [],
   "source": []
  },
  {
   "cell_type": "code",
   "execution_count": 65,
   "id": "2985d55e-b7a1-48ba-9b9b-0ebbf97f3a68",
   "metadata": {},
   "outputs": [
    {
     "data": {
      "text/html": [
       "<div>\n",
       "<style scoped>\n",
       "    .dataframe tbody tr th:only-of-type {\n",
       "        vertical-align: middle;\n",
       "    }\n",
       "\n",
       "    .dataframe tbody tr th {\n",
       "        vertical-align: top;\n",
       "    }\n",
       "\n",
       "    .dataframe thead th {\n",
       "        text-align: right;\n",
       "    }\n",
       "</style>\n",
       "<table border=\"1\" class=\"dataframe\">\n",
       "  <thead>\n",
       "    <tr style=\"text-align: right;\">\n",
       "      <th></th>\n",
       "      <th>MA_for_365_days</th>\n",
       "    </tr>\n",
       "    <tr>\n",
       "      <th>Date</th>\n",
       "      <th></th>\n",
       "    </tr>\n",
       "  </thead>\n",
       "  <tbody>\n",
       "    <tr>\n",
       "      <th>2014-09-17</th>\n",
       "      <td>NaN</td>\n",
       "    </tr>\n",
       "    <tr>\n",
       "      <th>2014-09-18</th>\n",
       "      <td>NaN</td>\n",
       "    </tr>\n",
       "    <tr>\n",
       "      <th>2014-09-19</th>\n",
       "      <td>NaN</td>\n",
       "    </tr>\n",
       "    <tr>\n",
       "      <th>2014-09-20</th>\n",
       "      <td>NaN</td>\n",
       "    </tr>\n",
       "    <tr>\n",
       "      <th>2014-09-21</th>\n",
       "      <td>NaN</td>\n",
       "    </tr>\n",
       "    <tr>\n",
       "      <th>...</th>\n",
       "      <td>...</td>\n",
       "    </tr>\n",
       "    <tr>\n",
       "      <th>2015-09-12</th>\n",
       "      <td>NaN</td>\n",
       "    </tr>\n",
       "    <tr>\n",
       "      <th>2015-09-13</th>\n",
       "      <td>NaN</td>\n",
       "    </tr>\n",
       "    <tr>\n",
       "      <th>2015-09-14</th>\n",
       "      <td>NaN</td>\n",
       "    </tr>\n",
       "    <tr>\n",
       "      <th>2015-09-15</th>\n",
       "      <td>NaN</td>\n",
       "    </tr>\n",
       "    <tr>\n",
       "      <th>2015-09-16</th>\n",
       "      <td>281.916161</td>\n",
       "    </tr>\n",
       "  </tbody>\n",
       "</table>\n",
       "<p>365 rows × 1 columns</p>\n",
       "</div>"
      ],
      "text/plain": [
       "            MA_for_365_days\n",
       "Date                       \n",
       "2014-09-17              NaN\n",
       "2014-09-18              NaN\n",
       "2014-09-19              NaN\n",
       "2014-09-20              NaN\n",
       "2014-09-21              NaN\n",
       "...                     ...\n",
       "2015-09-12              NaN\n",
       "2015-09-13              NaN\n",
       "2015-09-14              NaN\n",
       "2015-09-15              NaN\n",
       "2015-09-16       281.916161\n",
       "\n",
       "[365 rows x 1 columns]"
      ]
     },
     "execution_count": 65,
     "metadata": {},
     "output_type": "execute_result"
    }
   ],
   "source": [
    "Closing_price[\"MA_for_365_days\"].to_frame().iloc[0:365]"
   ]
  },
  {
   "cell_type": "code",
   "execution_count": null,
   "id": "b4550647-d8c2-46b3-9804-e8c663f82fd2",
   "metadata": {},
   "outputs": [],
   "source": []
  },
  {
   "cell_type": "code",
   "execution_count": 66,
   "id": "1b27c3e5-6029-4cf6-8553-13875a3f65e9",
   "metadata": {},
   "outputs": [
    {
     "data": {
      "text/plain": [
       "<Figure size 640x480 with 0 Axes>"
      ]
     },
     "metadata": {},
     "output_type": "display_data"
    },
    {
     "data": {
      "image/png": "[encoded data removed]",
      "text/plain": [
       "<Figure size 1500x600 with 1 Axes>"
      ]
     },
     "metadata": {},
     "output_type": "display_data"
    }
   ],
   "source": [
    "plt.figure()\n",
    "Closing_price[[\"Close\", \"MA_for_365_days\"]].plot(figsize = (15,6))\n",
    "plt.xlabel(\"Years\")\n",
    "plt.ylabel(\"Close Price\")\n",
    "plt.title(\"Close Price of Bitcoin\");"
   ]
  },
  {
   "cell_type": "code",
   "execution_count": null,
   "id": "0cf57b94-4cb1-4326-a694-4d1d19d41cf3",
   "metadata": {},
   "outputs": [],
   "source": []
  },
  {
   "cell_type": "code",
   "execution_count": null,
   "id": "9217aaf4-c880-4725-bf42-153c56e9f8ab",
   "metadata": {},
   "outputs": [],
   "source": []
  },
  {
   "cell_type": "markdown",
   "id": "a3f50682-2cbe-4023-8dde-c22b34ab6715",
   "metadata": {},
   "source": [
    "MA for 100 days"
   ]
  },
  {
   "cell_type": "code",
   "execution_count": 67,
   "id": "aed98e10-5dba-4acd-9562-75c66826f7a3",
   "metadata": {},
   "outputs": [
    {
     "name": "stderr",
     "output_type": "stream",
     "text": [
      "C:\\Users\\Admin\\AppData\\Local\\Temp\\ipykernel_18172\\4229345755.py:1: SettingWithCopyWarning: \n",
      "A value is trying to be set on a copy of a slice from a DataFrame.\n",
      "Try using .loc[row_indexer,col_indexer] = value instead\n",
      "\n",
      "See the caveats in the documentation: https://pandas.pydata.org/pandas-docs/stable/user_guide/indexing.html#returning-a-view-versus-a-copy\n",
      "  Closing_price[\"MA_for_100_days\"] = Closing_price[\"Close\"].rolling(100).mean()\n"
     ]
    },
    {
     "data": {
      "text/plain": [
       "Date\n",
       "2014-09-17   NaN\n",
       "2014-09-18   NaN\n",
       "2014-09-19   NaN\n",
       "2014-09-20   NaN\n",
       "2014-09-21   NaN\n",
       "Name: MA_for_100_days, dtype: float64"
      ]
     },
     "execution_count": 67,
     "metadata": {},
     "output_type": "execute_result"
    }
   ],
   "source": [
    "Closing_price[\"MA_for_100_days\"] = Closing_price[\"Close\"].rolling(100).mean()\n",
    "Closing_price[\"MA_for_100_days\"].head()"
   ]
  },
  {
   "cell_type": "code",
   "execution_count": null,
   "id": "b7cd7245-af7b-4878-b2ee-2ea8dfb86ffa",
   "metadata": {},
   "outputs": [],
   "source": []
  },
  {
   "cell_type": "code",
   "execution_count": 68,
   "id": "5a92d741-a2a3-4f05-9f0c-52a1a26ff17c",
   "metadata": {},
   "outputs": [
    {
     "data": {
      "text/plain": [
       "<Figure size 640x480 with 0 Axes>"
      ]
     },
     "metadata": {},
     "output_type": "display_data"
    },
    {
     "data": {
      "image/png": "[encoded data removed]",
      "text/plain": [
       "<Figure size 1500x600 with 1 Axes>"
      ]
     },
     "metadata": {},
     "output_type": "display_data"
    }
   ],
   "source": [
    "plt.figure()\n",
    "Closing_price[[\"Close\", \"MA_for_100_days\"]].plot(figsize = (15,6))\n",
    "plt.xlabel(\"Years\")\n",
    "plt.ylabel(\"Close Price\")\n",
    "plt.title(\"Close Price of Bitcoin\");"
   ]
  },
  {
   "cell_type": "code",
   "execution_count": null,
   "id": "e55fbc93-8822-4157-8c36-1f073e277cd3",
   "metadata": {},
   "outputs": [],
   "source": []
  },
  {
   "cell_type": "code",
   "execution_count": 69,
   "id": "1b3b9b5f-402c-49af-a717-1008e712ff5d",
   "metadata": {},
   "outputs": [],
   "source": [
    "# 1 to 100 ==> 101 day\n",
    "# 2 to 101 (100 days) ==> 102 day\n",
    "# 3 to 102 (100 days) ==> 103rd day feature days close price using our model"
   ]
  },
  {
   "cell_type": "code",
   "execution_count": null,
   "id": "6046923e-23a5-43d9-bbaa-e89a63a3e231",
   "metadata": {},
   "outputs": [],
   "source": []
  },
  {
   "cell_type": "code",
   "execution_count": 70,
   "id": "74ffed8b-e858-4b36-8ca6-2cf25aace347",
   "metadata": {},
   "outputs": [
    {
     "data": {
      "text/plain": [
       "array([[0.00383005],\n",
       "       [0.00337886],\n",
       "       [0.00297225],\n",
       "       ...,\n",
       "       [0.87786216],\n",
       "       [0.87998204],\n",
       "       [0.87451187]])"
      ]
     },
     "execution_count": 70,
     "metadata": {},
     "output_type": "execute_result"
    }
   ],
   "source": [
    "from sklearn.preprocessing import MinMaxScaler\n",
    "\n",
    "scaler = MinMaxScaler(feature_range = (0,1))\n",
    "scaled_data = scaler.fit_transform(Closing_price[[\"Close\"]].values)\n",
    "scaled_data"
   ]
  },
  {
   "cell_type": "code",
   "execution_count": null,
   "id": "53498492-28a1-45d4-9525-19f850e76269",
   "metadata": {},
   "outputs": [],
   "source": []
  },
  {
   "cell_type": "code",
   "execution_count": 71,
   "id": "6ab08f1c-6f94-43c3-a9f3-13da6e2f7189",
   "metadata": {},
   "outputs": [
    {
     "data": {
      "text/plain": [
       "(3632, 1)"
      ]
     },
     "execution_count": 71,
     "metadata": {},
     "output_type": "execute_result"
    }
   ],
   "source": [
    "scaled_data.shape"
   ]
  },
  {
   "cell_type": "code",
   "execution_count": 72,
   "id": "dc07bbcd-e37e-4b25-a1f9-8bd2763d48f9",
   "metadata": {},
   "outputs": [],
   "source": [
    "x_data = []\n",
    "y_data = []\n",
    "\n",
    "base_days = 100\n",
    "for i in range(base_days,len(scaled_data)):\n",
    "    x_data.append(scaled_data[i-base_days:i])\n",
    "    y_data.append(scaled_data[i])\n",
    "\n",
    "x_data, y_data = np.array(x_data), np.array(y_data)"
   ]
  },
  {
   "cell_type": "code",
   "execution_count": null,
   "id": "f1b8d164-9494-4b9d-a382-5b00daf0aac3",
   "metadata": {},
   "outputs": [],
   "source": []
  },
  {
   "cell_type": "code",
   "execution_count": 73,
   "id": "7a807cf7-b30a-4785-8db2-8b02ecbab611",
   "metadata": {},
   "outputs": [
    {
     "data": {
      "text/plain": [
       "(array([[0.00383005],\n",
       "        [0.00337886],\n",
       "        [0.00297225],\n",
       "        [0.00316576],\n",
       "        [0.00302746],\n",
       "        [0.00307315],\n",
       "        [0.00353455],\n",
       "        [0.00336192],\n",
       "        [0.00320238],\n",
       "        [0.00310432],\n",
       "        [0.00303705],\n",
       "        [0.00273063],\n",
       "        [0.00270712],\n",
       "        [0.00286455],\n",
       "        [0.00281889],\n",
       "        [0.00270171],\n",
       "        [0.00248828],\n",
       "        [0.00206793],\n",
       "        [0.00195331],\n",
       "        [0.00208456],\n",
       "        [0.00216834],\n",
       "        [0.00239814],\n",
       "        [0.00256391],\n",
       "        [0.0025164 ],\n",
       "        [0.00252651],\n",
       "        [0.0027494 ],\n",
       "        [0.00291214],\n",
       "        [0.00305556],\n",
       "        [0.00297193],\n",
       "        [0.00280436],\n",
       "        [0.00282085],\n",
       "        [0.00292624],\n",
       "        [0.00290024],\n",
       "        [0.00280832],\n",
       "        [0.00285812],\n",
       "        [0.00281262],\n",
       "        [0.00247326],\n",
       "        [0.00247227],\n",
       "        [0.00232038],\n",
       "        [0.00242233],\n",
       "        [0.00239881],\n",
       "        [0.0024623 ],\n",
       "        [0.00216017],\n",
       "        [0.00229341],\n",
       "        [0.00219762],\n",
       "        [0.00202517],\n",
       "        [0.00202713],\n",
       "        [0.00204993],\n",
       "        [0.00209023],\n",
       "        [0.00221359],\n",
       "        [0.00234807],\n",
       "        [0.00225377],\n",
       "        [0.00229592],\n",
       "        [0.00253974],\n",
       "        [0.00258995],\n",
       "        [0.00260052],\n",
       "        [0.0033668 ],\n",
       "        [0.00332804],\n",
       "        [0.0030137 ],\n",
       "        [0.00271626],\n",
       "        [0.00287741],\n",
       "        [0.00287091],\n",
       "        [0.00270343],\n",
       "        [0.00277691],\n",
       "        [0.00246535],\n",
       "        [0.00236944],\n",
       "        [0.00239786],\n",
       "        [0.00259885],\n",
       "        [0.00272679],\n",
       "        [0.00270549],\n",
       "        [0.00260978],\n",
       "        [0.00262761],\n",
       "        [0.00272057],\n",
       "        [0.00270745],\n",
       "        [0.00274251],\n",
       "        [0.00275895],\n",
       "        [0.00278734],\n",
       "        [0.00270086],\n",
       "        [0.00262671],\n",
       "        [0.00272615],\n",
       "        [0.00269777],\n",
       "        [0.00270202],\n",
       "        [0.00252116],\n",
       "        [0.00238825],\n",
       "        [0.00230795],\n",
       "        [0.00236475],\n",
       "        [0.00239268],\n",
       "        [0.00232182],\n",
       "        [0.00238019],\n",
       "        [0.00229396],\n",
       "        [0.00204318],\n",
       "        [0.00194324],\n",
       "        [0.0018283 ],\n",
       "        [0.00191673],\n",
       "        [0.00208288],\n",
       "        [0.00195788],\n",
       "        [0.00210935],\n",
       "        [0.00214619],\n",
       "        [0.00198107],\n",
       "        [0.00193271]]),\n",
       " array([0.00205501]))"
      ]
     },
     "execution_count": 73,
     "metadata": {},
     "output_type": "execute_result"
    }
   ],
   "source": [
    "x_data[0], y_data[0]"
   ]
  },
  {
   "cell_type": "code",
   "execution_count": null,
   "id": "b685ebd9-5ebf-4a18-9bab-5fd6a06d8517",
   "metadata": {},
   "outputs": [],
   "source": []
  },
  {
   "cell_type": "code",
   "execution_count": 74,
   "id": "1c7bbabf-8bff-49a7-aaed-b85f198befc7",
   "metadata": {},
   "outputs": [],
   "source": [
    "len_train = int(len(x_data) * 0.9)\n",
    "x_train = x_data[:len_train]\n",
    "y_train = y_data[:len_train]\n",
    "\n",
    "x_test = x_data[len_train:]\n",
    "y_test = y_data[len_train:]"
   ]
  },
  {
   "cell_type": "code",
   "execution_count": null,
   "id": "9034712f-ced2-4bdb-a9fc-d8afb7967eb9",
   "metadata": {},
   "outputs": [],
   "source": []
  },
  {
   "cell_type": "code",
   "execution_count": 75,
   "id": "307beb35-1e2e-4c93-acc5-d3322911274b",
   "metadata": {},
   "outputs": [
    {
     "name": "stdout",
     "output_type": "stream",
     "text": [
      "(3178, 100, 1)\n",
      "(3178, 1)\n",
      "(354, 100, 1)\n",
      "(354, 1)\n"
     ]
    }
   ],
   "source": [
    "print(x_train.shape)\n",
    "print(y_train.shape)\n",
    "print(x_test.shape)\n",
    "print(y_test.shape)"
   ]
  },
  {
   "cell_type": "code",
   "execution_count": null,
   "id": "c9a72109-ad80-4fec-bf42-c93f55be6944",
   "metadata": {},
   "outputs": [],
   "source": []
  },
  {
   "cell_type": "code",
   "execution_count": 76,
   "id": "cd8f88d6-bdfd-4526-9ce9-baca7c2f7cd5",
   "metadata": {},
   "outputs": [
    {
     "name": "stderr",
     "output_type": "stream",
     "text": [
      "C:\\Users\\Admin\\AppData\\Roaming\\Python\\Python311\\site-packages\\keras\\src\\layers\\rnn\\rnn.py:204: UserWarning: Do not pass an `input_shape`/`input_dim` argument to a layer. When using Sequential models, prefer using an `Input(shape)` object as the first layer in the model instead.\n",
      "  super().__init__(**kwargs)\n"
     ]
    }
   ],
   "source": [
    "from keras.models import Sequential\n",
    "from keras.layers import Dense, LSTM\n",
    "\n",
    "model = Sequential()\n",
    "\n",
    "model.add(LSTM(128, return_sequences = True, input_shape = (x_train.shape[1], 1)))\n",
    "\n",
    "model.add(LSTM(64, return_sequences = False))\n",
    "\n",
    "model.add(Dense(25))\n",
    "\n",
    "model.add(Dense(1))"
   ]
  },
  {
   "cell_type": "code",
   "execution_count": null,
   "id": "8b078b76-1249-4254-84cb-0ab59127cf27",
   "metadata": {},
   "outputs": [],
   "source": []
  },
  {
   "cell_type": "code",
   "execution_count": 77,
   "id": "fd2006ad-fc0f-4e2d-9c1e-5e52eea2a295",
   "metadata": {},
   "outputs": [
    {
     "data": {
      "text/html": [
       "<pre style=\"white-space:pre;overflow-x:auto;line-height:normal;font-family:Menlo,'DejaVu Sans Mono',consolas,'Courier New',monospace\"><span style=\"font-weight: bold\">Model: \"sequential_1\"</span>\n",
       "</pre>\n"
      ],
      "text/plain": [
       "\u001b[1mModel: \"sequential_1\"\u001b[0m\n"
      ]
     },
     "metadata": {},
     "output_type": "display_data"
    },
    {
     "data": {
      "text/html": [
       "<pre style=\"white-space:pre;overflow-x:auto;line-height:normal;font-family:Menlo,'DejaVu Sans Mono',consolas,'Courier New',monospace\">┏━━━━━━━━━━━━━━━━━━━━━━━━━━━━━━━━━┳━━━━━━━━━━━━━━━━━━━━━━━━┳━━━━━━━━━━━━━━━┓\n",
       "┃<span style=\"font-weight: bold\"> Layer (type)                    </span>┃<span style=\"font-weight: bold\"> Output Shape           </span>┃<span style=\"font-weight: bold\">       Param # </span>┃\n",
       "┡━━━━━━━━━━━━━━━━━━━━━━━━━━━━━━━━━╇━━━━━━━━━━━━━━━━━━━━━━━━╇━━━━━━━━━━━━━━━┩\n",
       "│ lstm_2 (<span style=\"color: #0087ff; text-decoration-color: #0087ff\">LSTM</span>)                   │ (<span style=\"color: #00d7ff; text-decoration-color: #00d7ff\">None</span>, <span style=\"color: #00af00; text-decoration-color: #00af00\">100</span>, <span style=\"color: #00af00; text-decoration-color: #00af00\">128</span>)       │        <span style=\"color: #00af00; text-decoration-color: #00af00\">66,560</span> │\n",
       "├─────────────────────────────────┼────────────────────────┼───────────────┤\n",
       "│ lstm_3 (<span style=\"color: #0087ff; text-decoration-color: #0087ff\">LSTM</span>)                   │ (<span style=\"color: #00d7ff; text-decoration-color: #00d7ff\">None</span>, <span style=\"color: #00af00; text-decoration-color: #00af00\">64</span>)             │        <span style=\"color: #00af00; text-decoration-color: #00af00\">49,408</span> │\n",
       "├─────────────────────────────────┼────────────────────────┼───────────────┤\n",
       "│ dense_2 (<span style=\"color: #0087ff; text-decoration-color: #0087ff\">Dense</span>)                 │ (<span style=\"color: #00d7ff; text-decoration-color: #00d7ff\">None</span>, <span style=\"color: #00af00; text-decoration-color: #00af00\">25</span>)             │         <span style=\"color: #00af00; text-decoration-color: #00af00\">1,625</span> │\n",
       "├─────────────────────────────────┼────────────────────────┼───────────────┤\n",
       "│ dense_3 (<span style=\"color: #0087ff; text-decoration-color: #0087ff\">Dense</span>)                 │ (<span style=\"color: #00d7ff; text-decoration-color: #00d7ff\">None</span>, <span style=\"color: #00af00; text-decoration-color: #00af00\">1</span>)              │            <span style=\"color: #00af00; text-decoration-color: #00af00\">26</span> │\n",
       "└─────────────────────────────────┴────────────────────────┴───────────────┘\n",
       "</pre>\n"
      ],
      "text/plain": [
       "┏━━━━━━━━━━━━━━━━━━━━━━━━━━━━━━━━━┳━━━━━━━━━━━━━━━━━━━━━━━━┳━━━━━━━━━━━━━━━┓\n",
       "┃\u001b[1m \u001b[0m\u001b[1mLayer (type)                   \u001b[0m\u001b[1m \u001b[0m┃\u001b[1m \u001b[0m\u001b[1mOutput Shape          \u001b[0m\u001b[1m \u001b[0m┃\u001b[1m \u001b[0m\u001b[1m      Param #\u001b[0m\u001b[1m \u001b[0m┃\n",
       "┡━━━━━━━━━━━━━━━━━━━━━━━━━━━━━━━━━╇━━━━━━━━━━━━━━━━━━━━━━━━╇━━━━━━━━━━━━━━━┩\n",
       "│ lstm_2 (\u001b[38;5;33mLSTM\u001b[0m)                   │ (\u001b[38;5;45mNone\u001b[0m, \u001b[38;5;34m100\u001b[0m, \u001b[38;5;34m128\u001b[0m)       │        \u001b[38;5;34m66,560\u001b[0m │\n",
       "├─────────────────────────────────┼────────────────────────┼───────────────┤\n",
       "│ lstm_3 (\u001b[38;5;33mLSTM\u001b[0m)                   │ (\u001b[38;5;45mNone\u001b[0m, \u001b[38;5;34m64\u001b[0m)             │        \u001b[38;5;34m49,408\u001b[0m │\n",
       "├─────────────────────────────────┼────────────────────────┼───────────────┤\n",
       "│ dense_2 (\u001b[38;5;33mDense\u001b[0m)                 │ (\u001b[38;5;45mNone\u001b[0m, \u001b[38;5;34m25\u001b[0m)             │         \u001b[38;5;34m1,625\u001b[0m │\n",
       "├─────────────────────────────────┼────────────────────────┼───────────────┤\n",
       "│ dense_3 (\u001b[38;5;33mDense\u001b[0m)                 │ (\u001b[38;5;45mNone\u001b[0m, \u001b[38;5;34m1\u001b[0m)              │            \u001b[38;5;34m26\u001b[0m │\n",
       "└─────────────────────────────────┴────────────────────────┴───────────────┘\n"
      ]
     },
     "metadata": {},
     "output_type": "display_data"
    },
    {
     "data": {
      "text/html": [
       "<pre style=\"white-space:pre;overflow-x:auto;line-height:normal;font-family:Menlo,'DejaVu Sans Mono',consolas,'Courier New',monospace\"><span style=\"font-weight: bold\"> Total params: </span><span style=\"color: #00af00; text-decoration-color: #00af00\">117,619</span> (459.45 KB)\n",
       "</pre>\n"
      ],
      "text/plain": [
       "\u001b[1m Total params: \u001b[0m\u001b[38;5;34m117,619\u001b[0m (459.45 KB)\n"
      ]
     },
     "metadata": {},
     "output_type": "display_data"
    },
    {
     "data": {
      "text/html": [
       "<pre style=\"white-space:pre;overflow-x:auto;line-height:normal;font-family:Menlo,'DejaVu Sans Mono',consolas,'Courier New',monospace\"><span style=\"font-weight: bold\"> Trainable params: </span><span style=\"color: #00af00; text-decoration-color: #00af00\">117,619</span> (459.45 KB)\n",
       "</pre>\n"
      ],
      "text/plain": [
       "\u001b[1m Trainable params: \u001b[0m\u001b[38;5;34m117,619\u001b[0m (459.45 KB)\n"
      ]
     },
     "metadata": {},
     "output_type": "display_data"
    },
    {
     "data": {
      "text/html": [
       "<pre style=\"white-space:pre;overflow-x:auto;line-height:normal;font-family:Menlo,'DejaVu Sans Mono',consolas,'Courier New',monospace\"><span style=\"font-weight: bold\"> Non-trainable params: </span><span style=\"color: #00af00; text-decoration-color: #00af00\">0</span> (0.00 B)\n",
       "</pre>\n"
      ],
      "text/plain": [
       "\u001b[1m Non-trainable params: \u001b[0m\u001b[38;5;34m0\u001b[0m (0.00 B)\n"
      ]
     },
     "metadata": {},
     "output_type": "display_data"
    }
   ],
   "source": [
    "model.summary()"
   ]
  },
  {
   "cell_type": "code",
   "execution_count": null,
   "id": "fc6e5fec-cc8c-4b05-9fc7-c7acdab617b3",
   "metadata": {},
   "outputs": [],
   "source": []
  },
  {
   "cell_type": "code",
   "execution_count": 78,
   "id": "1dc85006-2053-4f14-ac75-b9231f770574",
   "metadata": {},
   "outputs": [],
   "source": [
    "model.compile(optimizer = \"adam\", loss = \"mean_squared_error\")"
   ]
  },
  {
   "cell_type": "code",
   "execution_count": null,
   "id": "61b00073-a95e-4963-8247-77a99cf60016",
   "metadata": {},
   "outputs": [],
   "source": []
  },
  {
   "cell_type": "code",
   "execution_count": 79,
   "id": "0b89043a-47c3-4a33-988d-5b9fe370b846",
   "metadata": {},
   "outputs": [
    {
     "name": "stdout",
     "output_type": "stream",
     "text": [
      "Epoch 1/10\n",
      "\u001b[1m636/636\u001b[0m \u001b[32m━━━━━━━━━━━━━━━━━━━━\u001b[0m\u001b[37m\u001b[0m \u001b[1m43s\u001b[0m 58ms/step - loss: 0.0034\n",
      "Epoch 2/10\n",
      "\u001b[1m636/636\u001b[0m \u001b[32m━━━━━━━━━━━━━━━━━━━━\u001b[0m\u001b[37m\u001b[0m \u001b[1m40s\u001b[0m 62ms/step - loss: 5.6867e-04\n",
      "Epoch 3/10\n",
      "\u001b[1m636/636\u001b[0m \u001b[32m━━━━━━━━━━━━━━━━━━━━\u001b[0m\u001b[37m\u001b[0m \u001b[1m40s\u001b[0m 63ms/step - loss: 3.0245e-04\n",
      "Epoch 4/10\n",
      "\u001b[1m636/636\u001b[0m \u001b[32m━━━━━━━━━━━━━━━━━━━━\u001b[0m\u001b[37m\u001b[0m \u001b[1m40s\u001b[0m 63ms/step - loss: 3.0885e-04\n",
      "Epoch 5/10\n",
      "\u001b[1m636/636\u001b[0m \u001b[32m━━━━━━━━━━━━━━━━━━━━\u001b[0m\u001b[37m\u001b[0m \u001b[1m39s\u001b[0m 62ms/step - loss: 3.1789e-04\n",
      "Epoch 6/10\n",
      "\u001b[1m636/636\u001b[0m \u001b[32m━━━━━━━━━━━━━━━━━━━━\u001b[0m\u001b[37m\u001b[0m \u001b[1m51s\u001b[0m 80ms/step - loss: 2.2661e-04\n",
      "Epoch 7/10\n",
      "\u001b[1m636/636\u001b[0m \u001b[32m━━━━━━━━━━━━━━━━━━━━\u001b[0m\u001b[37m\u001b[0m \u001b[1m37s\u001b[0m 58ms/step - loss: 2.8989e-04\n",
      "Epoch 8/10\n",
      "\u001b[1m636/636\u001b[0m \u001b[32m━━━━━━━━━━━━━━━━━━━━\u001b[0m\u001b[37m\u001b[0m \u001b[1m44s\u001b[0m 69ms/step - loss: 2.3387e-04\n",
      "Epoch 9/10\n",
      "\u001b[1m636/636\u001b[0m \u001b[32m━━━━━━━━━━━━━━━━━━━━\u001b[0m\u001b[37m\u001b[0m \u001b[1m47s\u001b[0m 73ms/step - loss: 1.9213e-04\n",
      "Epoch 10/10\n",
      "\u001b[1m636/636\u001b[0m \u001b[32m━━━━━━━━━━━━━━━━━━━━\u001b[0m\u001b[37m\u001b[0m \u001b[1m45s\u001b[0m 70ms/step - loss: 2.4764e-04\n"
     ]
    },
    {
     "data": {
      "text/plain": [
       "<keras.src.callbacks.history.History at 0x188853de050>"
      ]
     },
     "execution_count": 79,
     "metadata": {},
     "output_type": "execute_result"
    }
   ],
   "source": [
    "model.fit(x_train, y_train, batch_size = 5, epochs = 10)"
   ]
  },
  {
   "cell_type": "code",
   "execution_count": null,
   "id": "60681119-e1cc-4a6f-940b-2529297d81c3",
   "metadata": {},
   "outputs": [],
   "source": []
  },
  {
   "cell_type": "code",
   "execution_count": 80,
   "id": "433a5507-ddf6-453f-a0c8-fbda064cb350",
   "metadata": {},
   "outputs": [
    {
     "name": "stdout",
     "output_type": "stream",
     "text": [
      "\u001b[1m12/12\u001b[0m \u001b[32m━━━━━━━━━━━━━━━━━━━━\u001b[0m\u001b[37m\u001b[0m \u001b[1m2s\u001b[0m 82ms/step\n"
     ]
    }
   ],
   "source": [
    "predictions = model.predict(x_test)"
   ]
  },
  {
   "cell_type": "code",
   "execution_count": 81,
   "id": "c541edd3-ade6-4071-8014-05953a83c40d",
   "metadata": {},
   "outputs": [
    {
     "data": {
      "text/plain": [
       "array([[0.35972846],\n",
       "       [0.35636833],\n",
       "       [0.35595953],\n",
       "       [0.35510755],\n",
       "       [0.34689042],\n",
       "       [0.35397705],\n",
       "       [0.35948545],\n",
       "       [0.36401215],\n",
       "       [0.36548248],\n",
       "       [0.3652441 ],\n",
       "       [0.36482129],\n",
       "       [0.36742982],\n",
       "       [0.3732687 ],\n",
       "       [0.37294677],\n",
       "       [0.36608648],\n",
       "       [0.3654721 ],\n",
       "       [0.3652716 ],\n",
       "       [0.36127853],\n",
       "       [0.36133203],\n",
       "       [0.36030483],\n",
       "       [0.36185578],\n",
       "       [0.37021512],\n",
       "       [0.36986783],\n",
       "       [0.37068784],\n",
       "       [0.38329417],\n",
       "       [0.37905777],\n",
       "       [0.37757564],\n",
       "       [0.3819025 ],\n",
       "       [0.37755477],\n",
       "       [0.38367435],\n",
       "       [0.38448924],\n",
       "       [0.38423675],\n",
       "       [0.37990487],\n",
       "       [0.377095  ],\n",
       "       [0.37038094],\n",
       "       [0.36819053],\n",
       "       [0.36914223],\n",
       "       [0.3692184 ],\n",
       "       [0.37293115],\n",
       "       [0.39014828],\n",
       "       [0.3907524 ],\n",
       "       [0.3900645 ],\n",
       "       [0.3949119 ],\n",
       "       [0.40734845],\n",
       "       [0.41145542],\n",
       "       [0.41293043],\n",
       "       [0.4524109 ],\n",
       "       [0.46577176],\n",
       "       [0.4750601 ],\n",
       "       [0.47131446],\n",
       "       [0.46802393],\n",
       "       [0.46999124],\n",
       "       [0.47570187],\n",
       "       [0.4754211 ],\n",
       "       [0.47765902],\n",
       "       [0.48788103],\n",
       "       [0.4818714 ],\n",
       "       [0.4792319 ],\n",
       "       [0.48369974],\n",
       "       [0.48346093],\n",
       "       [0.4834504 ],\n",
       "       [0.48887002],\n",
       "       [0.49194407],\n",
       "       [0.5059465 ],\n",
       "       [0.5147854 ],\n",
       "       [0.51301014],\n",
       "       [0.51208925],\n",
       "       [0.50469357],\n",
       "       [0.4916689 ],\n",
       "       [0.52217746],\n",
       "       [0.49971828],\n",
       "       [0.505612  ],\n",
       "       [0.5053279 ],\n",
       "       [0.51607317],\n",
       "       [0.51759785],\n",
       "       [0.49582553],\n",
       "       [0.51683813],\n",
       "       [0.51505524],\n",
       "       [0.5211325 ],\n",
       "       [0.52232677],\n",
       "       [0.51823777],\n",
       "       [0.5151903 ],\n",
       "       [0.52273405],\n",
       "       [0.5231441 ],\n",
       "       [0.5213327 ],\n",
       "       [0.5344408 ],\n",
       "       [0.54524016],\n",
       "       [0.5524151 ],\n",
       "       [0.5801087 ],\n",
       "       [0.609251  ],\n",
       "       [0.60451025],\n",
       "       [0.5988734 ],\n",
       "       [0.6110698 ],\n",
       "       [0.60413975],\n",
       "       [0.6051077 ],\n",
       "       [0.5696324 ],\n",
       "       [0.5731931 ],\n",
       "       [0.59235084],\n",
       "       [0.59390116],\n",
       "       [0.57931864],\n",
       "       [0.58423835],\n",
       "       [0.57195914],\n",
       "       [0.5897139 ],\n",
       "       [0.58437985],\n",
       "       [0.6041114 ],\n",
       "       [0.60670316],\n",
       "       [0.6088605 ],\n",
       "       [0.6052816 ],\n",
       "       [0.5952767 ],\n",
       "       [0.6037163 ],\n",
       "       [0.5879409 ],\n",
       "       [0.60126126],\n",
       "       [0.58927536],\n",
       "       [0.582494  ],\n",
       "       [0.5832761 ],\n",
       "       [0.58463734],\n",
       "       [0.6111597 ],\n",
       "       [0.6217066 ],\n",
       "       [0.59246105],\n",
       "       [0.61230934],\n",
       "       [0.6108546 ],\n",
       "       [0.60866463],\n",
       "       [0.6080398 ],\n",
       "       [0.6507789 ],\n",
       "       [0.63705826],\n",
       "       [0.64553255],\n",
       "       [0.6412456 ],\n",
       "       [0.59193754],\n",
       "       [0.5935087 ],\n",
       "       [0.577825  ],\n",
       "       [0.5879133 ],\n",
       "       [0.59645206],\n",
       "       [0.5909367 ],\n",
       "       [0.5710813 ],\n",
       "       [0.576453  ],\n",
       "       [0.5767139 ],\n",
       "       [0.57516515],\n",
       "       [0.5473804 ],\n",
       "       [0.5521529 ],\n",
       "       [0.5547304 ],\n",
       "       [0.55279326],\n",
       "       [0.5786853 ],\n",
       "       [0.58271915],\n",
       "       [0.58205885],\n",
       "       [0.59958875],\n",
       "       [0.5944454 ],\n",
       "       [0.589616  ],\n",
       "       [0.5963489 ],\n",
       "       [0.59741753],\n",
       "       [0.59465915],\n",
       "       [0.58899444],\n",
       "       [0.590061  ],\n",
       "       [0.59580797],\n",
       "       [0.6129225 ],\n",
       "       [0.6264299 ],\n",
       "       [0.6525821 ],\n",
       "       [0.6606514 ],\n",
       "       [0.6682548 ],\n",
       "       [0.692029  ],\n",
       "       [0.68717134],\n",
       "       [0.7183215 ],\n",
       "       [0.7170933 ],\n",
       "       [0.72081506],\n",
       "       [0.7130079 ],\n",
       "       [0.72040313],\n",
       "       [0.71435416],\n",
       "       [0.72244346],\n",
       "       [0.7150344 ],\n",
       "       [0.7080848 ],\n",
       "       [0.7003242 ],\n",
       "       [0.71333075],\n",
       "       [0.71455353],\n",
       "       [0.75630707],\n",
       "       [0.79095733],\n",
       "       [0.87116   ],\n",
       "       [0.8398628 ],\n",
       "       [0.8654449 ],\n",
       "       [0.8541823 ],\n",
       "       [0.8734098 ],\n",
       "       [0.95146656],\n",
       "       [0.8639984 ],\n",
       "       [0.9181634 ],\n",
       "       [0.9199879 ],\n",
       "       [0.94170827],\n",
       "       [0.9405931 ],\n",
       "       [0.94953144],\n",
       "       [0.998267  ],\n",
       "       [0.9767977 ],\n",
       "       [1.0085614 ],\n",
       "       [0.9733238 ],\n",
       "       [0.94913405],\n",
       "       [0.8883791 ],\n",
       "       [0.94993883],\n",
       "       [0.9229521 ],\n",
       "       [0.83993435],\n",
       "       [0.95162463],\n",
       "       [0.8908188 ],\n",
       "       [0.8772388 ],\n",
       "       [0.884522  ],\n",
       "       [0.9335495 ],\n",
       "       [0.9680908 ],\n",
       "       [0.96203697],\n",
       "       [0.9553213 ],\n",
       "       [0.9775939 ],\n",
       "       [0.9580569 ],\n",
       "       [0.95800006],\n",
       "       [0.98498267],\n",
       "       [0.95182157],\n",
       "       [0.8907936 ],\n",
       "       [0.9117126 ],\n",
       "       [0.94729847],\n",
       "       [0.9292812 ],\n",
       "       [0.9510829 ],\n",
       "       [0.9544639 ],\n",
       "       [0.9910725 ],\n",
       "       [0.94245523],\n",
       "       [0.97719777],\n",
       "       [0.96033126],\n",
       "       [0.9175772 ],\n",
       "       [0.8725734 ],\n",
       "       [0.91120005],\n",
       "       [0.86635166],\n",
       "       [0.8813866 ],\n",
       "       [0.8389519 ],\n",
       "       [0.88187003],\n",
       "       [0.8795606 ],\n",
       "       [0.8989866 ],\n",
       "       [0.89479035],\n",
       "       [0.9264032 ],\n",
       "       [0.91328424],\n",
       "       [0.8820579 ],\n",
       "       [0.89089125],\n",
       "       [0.87687445],\n",
       "       [0.8737952 ],\n",
       "       [0.8692681 ],\n",
       "       [0.8814909 ],\n",
       "       [0.8291568 ],\n",
       "       [0.8014253 ],\n",
       "       [0.81846666],\n",
       "       [0.8739998 ],\n",
       "       [0.88120973],\n",
       "       [0.8834554 ],\n",
       "       [0.8699468 ],\n",
       "       [0.8593209 ],\n",
       "       [0.8426962 ],\n",
       "       [0.8740774 ],\n",
       "       [0.8328804 ],\n",
       "       [0.8400378 ],\n",
       "       [0.8486364 ],\n",
       "       [0.8699546 ],\n",
       "       [0.8455221 ],\n",
       "       [0.924584  ],\n",
       "       [0.8936081 ],\n",
       "       [0.9294709 ],\n",
       "       [0.92048645],\n",
       "       [0.9116352 ],\n",
       "       [0.99664545],\n",
       "       [0.956394  ],\n",
       "       [0.9494638 ],\n",
       "       [0.9314204 ],\n",
       "       [0.9442812 ],\n",
       "       [0.95296973],\n",
       "       [0.9389874 ],\n",
       "       [0.95648724],\n",
       "       [0.93504363],\n",
       "       [0.92836756],\n",
       "       [0.9424726 ],\n",
       "       [0.92539513],\n",
       "       [0.9327198 ],\n",
       "       [0.93198633],\n",
       "       [0.9492954 ],\n",
       "       [0.9743959 ],\n",
       "       [0.9775419 ],\n",
       "       [0.9718595 ],\n",
       "       [0.9501611 ],\n",
       "       [0.95410454],\n",
       "       [0.9582385 ],\n",
       "       [0.95484823],\n",
       "       [0.9203891 ],\n",
       "       [0.94243956],\n",
       "       [0.91363704],\n",
       "       [0.9078748 ],\n",
       "       [0.91189414],\n",
       "       [0.91830677],\n",
       "       [0.91492563],\n",
       "       [0.89442277],\n",
       "       [0.8957081 ],\n",
       "       [0.8931741 ],\n",
       "       [0.88199055],\n",
       "       [0.8865712 ],\n",
       "       [0.86871815],\n",
       "       [0.82657653],\n",
       "       [0.8572875 ],\n",
       "       [0.83612835],\n",
       "       [0.8523615 ],\n",
       "       [0.8297787 ],\n",
       "       [0.842562  ],\n",
       "       [0.8683506 ],\n",
       "       [0.8669313 ],\n",
       "       [0.85470134],\n",
       "       [0.827872  ],\n",
       "       [0.78259534],\n",
       "       [0.7836564 ],\n",
       "       [0.80757535],\n",
       "       [0.7668075 ],\n",
       "       [0.78585935],\n",
       "       [0.8030555 ],\n",
       "       [0.7970959 ],\n",
       "       [0.7924008 ],\n",
       "       [0.80157864],\n",
       "       [0.82061946],\n",
       "       [0.84194607],\n",
       "       [0.90287375],\n",
       "       [0.8962339 ],\n",
       "       [0.88258445],\n",
       "       [0.8825114 ],\n",
       "       [0.9252175 ],\n",
       "       [0.92356855],\n",
       "       [0.9399259 ],\n",
       "       [0.9273196 ],\n",
       "       [0.903306  ],\n",
       "       [0.89897174],\n",
       "       [0.9057742 ],\n",
       "       [0.93848395],\n",
       "       [0.9305581 ],\n",
       "       [0.94006103],\n",
       "       [0.9153246 ],\n",
       "       [0.9106686 ],\n",
       "       [0.88613665],\n",
       "       [0.90243465],\n",
       "       [0.83690643],\n",
       "       [0.8373762 ],\n",
       "       [0.79708064],\n",
       "       [0.7405385 ],\n",
       "       [0.7783908 ],\n",
       "       [0.75791264],\n",
       "       [0.86382663],\n",
       "       [0.83653253],\n",
       "       [0.8439839 ],\n",
       "       [0.80853635],\n",
       "       [0.8233841 ],\n",
       "       [0.83948845],\n",
       "       [0.80761456],\n",
       "       [0.79428816],\n",
       "       [0.8159894 ],\n",
       "       [0.82137597],\n",
       "       [0.8055292 ],\n",
       "       [0.8236346 ],\n",
       "       [0.81340736],\n",
       "       [0.848632  ],\n",
       "       [0.8308039 ],\n",
       "       [0.89220345],\n",
       "       [0.88297415],\n",
       "       [0.8877099 ]], dtype=float32)"
      ]
     },
     "execution_count": 81,
     "metadata": {},
     "output_type": "execute_result"
    }
   ],
   "source": [
    "predictions"
   ]
  },
  {
   "cell_type": "code",
   "execution_count": null,
   "id": "4d08e2cb-e45a-4214-ab90-2a98de8ce3ac",
   "metadata": {},
   "outputs": [],
   "source": []
  },
  {
   "cell_type": "code",
   "execution_count": 82,
   "id": "4c3eaf0e-3fe3-4e4e-9dbc-4d2c6cae0ec9",
   "metadata": {},
   "outputs": [
    {
     "data": {
      "text/plain": [
       "array([[26404.248],\n",
       "       [26159.277],\n",
       "       [26129.475],\n",
       "       [26067.36 ],\n",
       "       [25468.287],\n",
       "       [25984.94 ],\n",
       "       [26386.531],\n",
       "       [26716.553],\n",
       "       [26823.748],\n",
       "       [26806.367],\n",
       "       [26775.543],\n",
       "       [26965.719],\n",
       "       [27391.404],\n",
       "       [27367.936],\n",
       "       [26867.783],\n",
       "       [26822.992],\n",
       "       [26808.373],\n",
       "       [26517.258],\n",
       "       [26521.158],\n",
       "       [26446.27 ],\n",
       "       [26559.342],\n",
       "       [27168.783],\n",
       "       [27143.463],\n",
       "       [27203.246],\n",
       "       [28122.316],\n",
       "       [27813.459],\n",
       "       [27705.404],\n",
       "       [28020.855],\n",
       "       [27703.883],\n",
       "       [28150.033],\n",
       "       [28209.443],\n",
       "       [28191.035],\n",
       "       [27875.217],\n",
       "       [27670.363],\n",
       "       [27180.871],\n",
       "       [27021.18 ],\n",
       "       [27090.564],\n",
       "       [27096.117],\n",
       "       [27366.797],\n",
       "       [28622.018],\n",
       "       [28666.062],\n",
       "       [28615.91 ],\n",
       "       [28969.31 ],\n",
       "       [29876.004],\n",
       "       [30175.424],\n",
       "       [30282.959],\n",
       "       [33161.3  ],\n",
       "       [34135.38 ],\n",
       "       [34812.547],\n",
       "       [34539.47 ],\n",
       "       [34299.574],\n",
       "       [34443.   ],\n",
       "       [34859.336],\n",
       "       [34838.867],\n",
       "       [35002.023],\n",
       "       [35747.26 ],\n",
       "       [35309.13 ],\n",
       "       [35116.695],\n",
       "       [35442.426],\n",
       "       [35425.016],\n",
       "       [35424.246],\n",
       "       [35819.367],\n",
       "       [36043.48 ],\n",
       "       [37064.336],\n",
       "       [37708.74 ],\n",
       "       [37579.312],\n",
       "       [37512.176],\n",
       "       [36972.99 ],\n",
       "       [36023.418],\n",
       "       [38247.66 ],\n",
       "       [36610.26 ],\n",
       "       [37039.95 ],\n",
       "       [37019.234],\n",
       "       [37802.625],\n",
       "       [37913.78 ],\n",
       "       [36326.46 ],\n",
       "       [37858.395],\n",
       "       [37728.41 ],\n",
       "       [38171.48 ],\n",
       "       [38258.547],\n",
       "       [37960.434],\n",
       "       [37738.258],\n",
       "       [38288.24 ],\n",
       "       [38318.137],\n",
       "       [38186.07 ],\n",
       "       [39141.723],\n",
       "       [39929.055],\n",
       "       [40452.145],\n",
       "       [42471.16 ],\n",
       "       [44595.793],\n",
       "       [44250.164],\n",
       "       [43839.207],\n",
       "       [44728.39 ],\n",
       "       [44223.152],\n",
       "       [44293.723],\n",
       "       [41707.383],\n",
       "       [41966.973],\n",
       "       [43363.68 ],\n",
       "       [43476.703],\n",
       "       [42413.56 ],\n",
       "       [42772.234],\n",
       "       [41877.01 ],\n",
       "       [43171.43 ],\n",
       "       [42782.55 ],\n",
       "       [44221.086],\n",
       "       [44410.04 ],\n",
       "       [44567.32 ],\n",
       "       [44306.4  ],\n",
       "       [43576.99 ],\n",
       "       [44192.28 ],\n",
       "       [43042.168],\n",
       "       [44013.297],\n",
       "       [43139.457],\n",
       "       [42645.062],\n",
       "       [42702.08 ],\n",
       "       [42801.324],\n",
       "       [44734.945],\n",
       "       [45503.87 ],\n",
       "       [43371.71 ],\n",
       "       [44818.76 ],\n",
       "       [44712.703],\n",
       "       [44553.043],\n",
       "       [44507.49 ],\n",
       "       [47623.4  ],\n",
       "       [46623.09 ],\n",
       "       [47240.91 ],\n",
       "       [46928.37 ],\n",
       "       [43333.547],\n",
       "       [43448.094],\n",
       "       [42304.668],\n",
       "       [43040.156],\n",
       "       [43662.68 ],\n",
       "       [43260.582],\n",
       "       [41813.01 ],\n",
       "       [42204.637],\n",
       "       [42223.66 ],\n",
       "       [42110.75 ],\n",
       "       [40085.09 ],\n",
       "       [40433.027],\n",
       "       [40620.945],\n",
       "       [40479.72 ],\n",
       "       [42367.387],\n",
       "       [42661.477],\n",
       "       [42613.336],\n",
       "       [43891.36 ],\n",
       "       [43516.383],\n",
       "       [43164.293],\n",
       "       [43655.156],\n",
       "       [43733.066],\n",
       "       [43531.965],\n",
       "       [43118.977],\n",
       "       [43196.74 ],\n",
       "       [43615.723],\n",
       "       [44863.46 ],\n",
       "       [45848.227],\n",
       "       [47754.863],\n",
       "       [48343.156],\n",
       "       [48897.484],\n",
       "       [50630.754],\n",
       "       [50276.605],\n",
       "       [52547.617],\n",
       "       [52458.074],\n",
       "       [52729.414],\n",
       "       [52160.23 ],\n",
       "       [52699.383],\n",
       "       [52258.38 ],\n",
       "       [52848.133],\n",
       "       [52307.973],\n",
       "       [51801.31 ],\n",
       "       [51235.516],\n",
       "       [52183.766],\n",
       "       [52272.914],\n",
       "       [55316.973],\n",
       "       [57843.164],\n",
       "       [63690.367],\n",
       "       [61408.637],\n",
       "       [63273.707],\n",
       "       [62452.605],\n",
       "       [63854.395],\n",
       "       [69545.15 ],\n",
       "       [63168.254],\n",
       "       [67117.17 ],\n",
       "       [67250.19 ],\n",
       "       [68833.72 ],\n",
       "       [68752.42 ],\n",
       "       [69404.07 ],\n",
       "       [72957.15 ],\n",
       "       [71391.93 ],\n",
       "       [73707.67 ],\n",
       "       [71138.664],\n",
       "       [69375.1  ],\n",
       "       [64945.734],\n",
       "       [69433.77 ],\n",
       "       [67466.3  ],\n",
       "       [61413.85 ],\n",
       "       [69556.68 ],\n",
       "       [65123.6  ],\n",
       "       [64133.547],\n",
       "       [64664.535],\n",
       "       [68238.91 ],\n",
       "       [70757.15 ],\n",
       "       [70315.79 ],\n",
       "       [69826.19 ],\n",
       "       [71449.98 ],\n",
       "       [70025.625],\n",
       "       [70021.48 ],\n",
       "       [71988.66 ],\n",
       "       [69571.03 ],\n",
       "       [65121.766],\n",
       "       [66646.875],\n",
       "       [69241.27 ],\n",
       "       [67927.72 ],\n",
       "       [69517.18 ],\n",
       "       [69763.67 ],\n",
       "       [72432.64 ],\n",
       "       [68888.18 ],\n",
       "       [71421.09 ],\n",
       "       [70191.44 ],\n",
       "       [67074.44 ],\n",
       "       [63793.414],\n",
       "       [66609.51 ],\n",
       "       [63339.816],\n",
       "       [64435.94 ],\n",
       "       [61342.227],\n",
       "       [64471.188],\n",
       "       [64302.82 ],\n",
       "       [65719.08 ],\n",
       "       [65413.152],\n",
       "       [67717.9  ],\n",
       "       [66761.45 ],\n",
       "       [64484.887],\n",
       "       [65128.887],\n",
       "       [64106.984],\n",
       "       [63882.492],\n",
       "       [63552.44 ],\n",
       "       [64443.547],\n",
       "       [60628.113],\n",
       "       [58606.332],\n",
       "       [59848.742],\n",
       "       [63897.406],\n",
       "       [64423.05 ],\n",
       "       [64586.77 ],\n",
       "       [63601.918],\n",
       "       [62827.234],\n",
       "       [61615.203],\n",
       "       [63903.062],\n",
       "       [60899.58 ],\n",
       "       [61421.395],\n",
       "       [62048.277],\n",
       "       [63602.49 ],\n",
       "       [61821.23 ],\n",
       "       [67585.266],\n",
       "       [65326.957],\n",
       "       [67941.55 ],\n",
       "       [67286.53 ],\n",
       "       [66641.234],\n",
       "       [72838.94 ],\n",
       "       [69904.39 ],\n",
       "       [69399.14 ],\n",
       "       [68083.68 ],\n",
       "       [69021.305],\n",
       "       [69654.74 ],\n",
       "       [68635.35 ],\n",
       "       [69911.19 ],\n",
       "       [68347.83 ],\n",
       "       [67861.11 ],\n",
       "       [68889.445],\n",
       "       [67644.41 ],\n",
       "       [68178.414],\n",
       "       [68124.94 ],\n",
       "       [69386.86 ],\n",
       "       [71216.82 ],\n",
       "       [71446.19 ],\n",
       "       [71031.91 ],\n",
       "       [69449.98 ],\n",
       "       [69737.48 ],\n",
       "       [70038.86 ],\n",
       "       [69791.695],\n",
       "       [67279.44 ],\n",
       "       [68887.03 ],\n",
       "       [66787.18 ],\n",
       "       [66367.08 ],\n",
       "       [66660.11 ],\n",
       "       [67127.625],\n",
       "       [66881.125],\n",
       "       [65386.35 ],\n",
       "       [65480.06 ],\n",
       "       [65295.316],\n",
       "       [64479.977],\n",
       "       [64813.934],\n",
       "       [63512.348],\n",
       "       [60439.996],\n",
       "       [62678.992],\n",
       "       [61136.375],\n",
       "       [62319.86 ],\n",
       "       [60673.45 ],\n",
       "       [61605.42 ],\n",
       "       [63485.55 ],\n",
       "       [63382.08 ],\n",
       "       [62490.445],\n",
       "       [60534.44 ],\n",
       "       [57233.527],\n",
       "       [57310.887],\n",
       "       [59054.707],\n",
       "       [56082.508],\n",
       "       [57471.492],\n",
       "       [58725.188],\n",
       "       [58290.7  ],\n",
       "       [57948.4  ],\n",
       "       [58617.516],\n",
       "       [60005.69 ],\n",
       "       [61560.516],\n",
       "       [66002.48 ],\n",
       "       [65518.395],\n",
       "       [64523.273],\n",
       "       [64517.945],\n",
       "       [67631.45 ],\n",
       "       [67511.234],\n",
       "       [68703.77 ],\n",
       "       [67784.71 ],\n",
       "       [66033.984],\n",
       "       [65717.99 ],\n",
       "       [66213.93 ],\n",
       "       [68598.65 ],\n",
       "       [68020.81 ],\n",
       "       [68713.625],\n",
       "       [66910.21 ],\n",
       "       [66570.76 ],\n",
       "       [64782.25 ],\n",
       "       [65970.46 ],\n",
       "       [61193.1  ],\n",
       "       [61227.348],\n",
       "       [58289.586],\n",
       "       [54167.355],\n",
       "       [56926.996],\n",
       "       [55434.027],\n",
       "       [63155.727],\n",
       "       [61165.84 ],\n",
       "       [61709.086],\n",
       "       [59124.77 ],\n",
       "       [60207.25 ],\n",
       "       [61381.344],\n",
       "       [59057.566],\n",
       "       [58086.   ],\n",
       "       [59668.133],\n",
       "       [60060.844],\n",
       "       [58905.527],\n",
       "       [60225.516],\n",
       "       [59479.89 ],\n",
       "       [62047.957],\n",
       "       [60748.19 ],\n",
       "       [65224.55 ],\n",
       "       [64551.684],\n",
       "       [64896.95 ]], dtype=float32)"
      ]
     },
     "execution_count": 82,
     "metadata": {},
     "output_type": "execute_result"
    }
   ],
   "source": [
    "inv_predictions = scaler.inverse_transform(predictions)\n",
    "inv_predictions"
   ]
  },
  {
   "cell_type": "code",
   "execution_count": null,
   "id": "321c981e-bade-4b78-8a81-211ed1036025",
   "metadata": {},
   "outputs": [],
   "source": []
  },
  {
   "cell_type": "code",
   "execution_count": 83,
   "id": "d7859aec-6914-4fc0-95d3-b71972ab9351",
   "metadata": {},
   "outputs": [],
   "source": [
    "inv_y_test = scaler.inverse_transform(y_test)"
   ]
  },
  {
   "cell_type": "code",
   "execution_count": null,
   "id": "9f1f8a24-8549-4ff6-a9ec-bc0b65f4b0af",
   "metadata": {},
   "outputs": [],
   "source": []
  },
  {
   "cell_type": "code",
   "execution_count": 84,
   "id": "6b93d68b-bcad-4a61-b23b-0bdfa9735132",
   "metadata": {},
   "outputs": [
    {
     "data": {
      "text/plain": [
       "(array([[26404.248],\n",
       "        [26159.277],\n",
       "        [26129.475],\n",
       "        [26067.36 ],\n",
       "        [25468.287]], dtype=float32),\n",
       " array([[25905.65429687],\n",
       "        [25895.67773438],\n",
       "        [25832.2265625 ],\n",
       "        [25162.65429688],\n",
       "        [25833.34375   ]]))"
      ]
     },
     "execution_count": 84,
     "metadata": {},
     "output_type": "execute_result"
    }
   ],
   "source": [
    "inv_predictions[:5], inv_y_test[:5]"
   ]
  },
  {
   "cell_type": "code",
   "execution_count": null,
   "id": "acf06f05-4a2f-4ba1-a11e-284cc1738ff4",
   "metadata": {},
   "outputs": [],
   "source": []
  },
  {
   "cell_type": "code",
   "execution_count": 88,
   "id": "c6d9f1ea-e65e-4539-a065-3c076ace4869",
   "metadata": {},
   "outputs": [
    {
     "data": {
      "text/html": [
       "<div>\n",
       "<style scoped>\n",
       "    .dataframe tbody tr th:only-of-type {\n",
       "        vertical-align: middle;\n",
       "    }\n",
       "\n",
       "    .dataframe tbody tr th {\n",
       "        vertical-align: top;\n",
       "    }\n",
       "\n",
       "    .dataframe thead th {\n",
       "        text-align: right;\n",
       "    }\n",
       "</style>\n",
       "<table border=\"1\" class=\"dataframe\">\n",
       "  <thead>\n",
       "    <tr style=\"text-align: right;\">\n",
       "      <th></th>\n",
       "      <th>Original_test_data</th>\n",
       "      <th>Predictions</th>\n",
       "    </tr>\n",
       "  </thead>\n",
       "  <tbody>\n",
       "    <tr>\n",
       "      <th>0</th>\n",
       "      <td>25905.654297</td>\n",
       "      <td>26404.248047</td>\n",
       "    </tr>\n",
       "    <tr>\n",
       "      <th>1</th>\n",
       "      <td>25895.677734</td>\n",
       "      <td>26159.277344</td>\n",
       "    </tr>\n",
       "    <tr>\n",
       "      <th>2</th>\n",
       "      <td>25832.226562</td>\n",
       "      <td>26129.474609</td>\n",
       "    </tr>\n",
       "    <tr>\n",
       "      <th>3</th>\n",
       "      <td>25162.654297</td>\n",
       "      <td>26067.359375</td>\n",
       "    </tr>\n",
       "    <tr>\n",
       "      <th>4</th>\n",
       "      <td>25833.343750</td>\n",
       "      <td>25468.287109</td>\n",
       "    </tr>\n",
       "    <tr>\n",
       "      <th>...</th>\n",
       "      <td>...</td>\n",
       "      <td>...</td>\n",
       "    </tr>\n",
       "    <tr>\n",
       "      <th>349</th>\n",
       "      <td>60381.914062</td>\n",
       "      <td>62047.957031</td>\n",
       "    </tr>\n",
       "    <tr>\n",
       "      <th>350</th>\n",
       "      <td>64094.355469</td>\n",
       "      <td>60748.191406</td>\n",
       "    </tr>\n",
       "    <tr>\n",
       "      <th>351</th>\n",
       "      <td>64178.992188</td>\n",
       "      <td>65224.550781</td>\n",
       "    </tr>\n",
       "    <tr>\n",
       "      <th>352</th>\n",
       "      <td>64333.542969</td>\n",
       "      <td>64551.683594</td>\n",
       "    </tr>\n",
       "    <tr>\n",
       "      <th>353</th>\n",
       "      <td>63934.738281</td>\n",
       "      <td>64896.949219</td>\n",
       "    </tr>\n",
       "  </tbody>\n",
       "</table>\n",
       "<p>354 rows × 2 columns</p>\n",
       "</div>"
      ],
      "text/plain": [
       "     Original_test_data   Predictions\n",
       "0          25905.654297  26404.248047\n",
       "1          25895.677734  26159.277344\n",
       "2          25832.226562  26129.474609\n",
       "3          25162.654297  26067.359375\n",
       "4          25833.343750  25468.287109\n",
       "..                  ...           ...\n",
       "349        60381.914062  62047.957031\n",
       "350        64094.355469  60748.191406\n",
       "351        64178.992188  65224.550781\n",
       "352        64333.542969  64551.683594\n",
       "353        63934.738281  64896.949219\n",
       "\n",
       "[354 rows x 2 columns]"
      ]
     },
     "execution_count": 88,
     "metadata": {},
     "output_type": "execute_result"
    }
   ],
   "source": [
    "plotting_data = pd.DataFrame({\n",
    "    \"Original_test_data\": inv_y_test.reshape(-1),\n",
    "    \"Predictions\": inv_predictions.reshape(-1)\n",
    "})\n",
    "index = Closing_price.index[len_train + 100:]\n",
    "plotting_data"
   ]
  },
  {
   "cell_type": "code",
   "execution_count": null,
   "id": "f0515ede-19c4-48d2-bc83-5dd8f187ad9b",
   "metadata": {},
   "outputs": [],
   "source": []
  },
  {
   "cell_type": "code",
   "execution_count": 89,
   "id": "bdbd6602-aa4b-4acf-9afc-53c82724ba5d",
   "metadata": {},
   "outputs": [
    {
     "data": {
      "text/plain": [
       "<Figure size 640x480 with 0 Axes>"
      ]
     },
     "metadata": {},
     "output_type": "display_data"
    },
    {
     "data": {
      "image/png": "[encoded data removed]",
      "text/plain": [
       "<Figure size 1500x600 with 1 Axes>"
      ]
     },
     "metadata": {},
     "output_type": "display_data"
    }
   ],
   "source": [
    "plt.figure()\n",
    "plotting_data[[\"Original_test_data\", \"Predictions\"]].plot(figsize = (15,6))\n",
    "plt.xlabel(\"Years\")\n",
    "plt.ylabel(\"Close Price\")\n",
    "plt.title(\"Close Price of Bitcoin\");"
   ]
  },
  {
   "cell_type": "code",
   "execution_count": null,
   "id": "23d2d045-05ed-4a90-bd25-eb73573209d8",
   "metadata": {},
   "outputs": [],
   "source": []
  },
  {
   "cell_type": "markdown",
   "id": "f5a2417f-866a-4a51-b861-514269038c5f",
   "metadata": {},
   "source": [
    "# Predict future"
   ]
  },
  {
   "cell_type": "code",
   "execution_count": 181,
   "id": "4ffb9300-e549-4fbb-adab-a8bfba1616a5",
   "metadata": {},
   "outputs": [],
   "source": [
    "last_100 = Closing_price[[\"Close\"]].tail(100)"
   ]
  },
  {
   "cell_type": "code",
   "execution_count": 182,
   "id": "f438ec67-e998-46af-b22b-31abcac81ead",
   "metadata": {},
   "outputs": [
    {
     "data": {
      "text/html": [
       "<div>\n",
       "<style scoped>\n",
       "    .dataframe tbody tr th:only-of-type {\n",
       "        vertical-align: middle;\n",
       "    }\n",
       "\n",
       "    .dataframe tbody tr th {\n",
       "        vertical-align: top;\n",
       "    }\n",
       "\n",
       "    .dataframe thead th {\n",
       "        text-align: right;\n",
       "    }\n",
       "</style>\n",
       "<table border=\"1\" class=\"dataframe\">\n",
       "  <thead>\n",
       "    <tr style=\"text-align: right;\">\n",
       "      <th></th>\n",
       "      <th>Close</th>\n",
       "    </tr>\n",
       "    <tr>\n",
       "      <th>Date</th>\n",
       "      <th></th>\n",
       "    </tr>\n",
       "  </thead>\n",
       "  <tbody>\n",
       "    <tr>\n",
       "      <th>2024-08-22</th>\n",
       "      <td>60381.914062</td>\n",
       "    </tr>\n",
       "    <tr>\n",
       "      <th>2024-08-23</th>\n",
       "      <td>64094.355469</td>\n",
       "    </tr>\n",
       "    <tr>\n",
       "      <th>2024-08-24</th>\n",
       "      <td>64178.992188</td>\n",
       "    </tr>\n",
       "    <tr>\n",
       "      <th>2024-08-25</th>\n",
       "      <td>64333.542969</td>\n",
       "    </tr>\n",
       "    <tr>\n",
       "      <th>2024-08-26</th>\n",
       "      <td>63934.738281</td>\n",
       "    </tr>\n",
       "  </tbody>\n",
       "</table>\n",
       "</div>"
      ],
      "text/plain": [
       "                   Close\n",
       "Date                    \n",
       "2024-08-22  60381.914062\n",
       "2024-08-23  64094.355469\n",
       "2024-08-24  64178.992188\n",
       "2024-08-25  64333.542969\n",
       "2024-08-26  63934.738281"
      ]
     },
     "execution_count": 182,
     "metadata": {},
     "output_type": "execute_result"
    }
   ],
   "source": [
    "last_100.tail()"
   ]
  },
  {
   "cell_type": "code",
   "execution_count": null,
   "id": "d50d27be-1e7c-4b3a-8163-c621800bf9c7",
   "metadata": {},
   "outputs": [],
   "source": []
  },
  {
   "cell_type": "code",
   "execution_count": 183,
   "id": "c862c5f7-db8f-4725-91c1-0bee85b875f4",
   "metadata": {},
   "outputs": [],
   "source": [
    "last_100 = scaler.fit_transform(last_100[\"Close\"].values.reshape(-1, 1)).reshape(1, -1, 1)"
   ]
  },
  {
   "cell_type": "code",
   "execution_count": 184,
   "id": "5add9163-ac14-4dd2-a611-9068c799a3c7",
   "metadata": {},
   "outputs": [
    {
     "data": {
      "text/plain": [
       "array([[[0.70384914],\n",
       "        [1.        ],\n",
       "        [0.92486202],\n",
       "        [0.86676438],\n",
       "        [0.79843698],\n",
       "        [0.83260941],\n",
       "        [0.87499097],\n",
       "        [0.83215069],\n",
       "        [0.88235829],\n",
       "        [0.81944069],\n",
       "        [0.77830328],\n",
       "        [0.82338034],\n",
       "        [0.77333788],\n",
       "        [0.78568403],\n",
       "        [0.78824259],\n",
       "        [0.84857343],\n",
       "        [0.94956505],\n",
       "        [0.97906969],\n",
       "        [0.96041464],\n",
       "        [0.87938128],\n",
       "        [0.8772725 ],\n",
       "        [0.89687632],\n",
       "        [0.88910219],\n",
       "        [0.76420772],\n",
       "        [0.81628826],\n",
       "        [0.7312329 ],\n",
       "        [0.68853852],\n",
       "        [0.69884435],\n",
       "        [0.72451048],\n",
       "        [0.71598942],\n",
       "        [0.63868111],\n",
       "        [0.62834418],\n",
       "        [0.62080321],\n",
       "        [0.5788448 ],\n",
       "        [0.58780288],\n",
       "        [0.52640646],\n",
       "        [0.36008772],\n",
       "        [0.44757408],\n",
       "        [0.39066979],\n",
       "        [0.43612636],\n",
       "        [0.36253506],\n",
       "        [0.39502923],\n",
       "        [0.49762079],\n",
       "        [0.50757039],\n",
       "        [0.46042728],\n",
       "        [0.35415922],\n",
       "        [0.17106552],\n",
       "        [0.15300212],\n",
       "        [0.24701533],\n",
       "        [0.10641463],\n",
       "        [0.15544946],\n",
       "        [0.2301558 ],\n",
       "        [0.21487628],\n",
       "        [0.19210101],\n",
       "        [0.22386816],\n",
       "        [0.30019904],\n",
       "        [0.3893245 ],\n",
       "        [0.6231803 ],\n",
       "        [0.63618365],\n",
       "        [0.58013907],\n",
       "        [0.57184849],\n",
       "        [0.72858394],\n",
       "        [0.754562  ],\n",
       "        [0.81132375],\n",
       "        [0.77871323],\n",
       "        [0.68375974],\n",
       "        [0.65193598],\n",
       "        [0.67514156],\n",
       "        [0.79743451],\n",
       "        [0.79177901],\n",
       "        [0.81712918],\n",
       "        [0.73487136],\n",
       "        [0.69941809],\n",
       "        [0.60880749],\n",
       "        [0.65109775],\n",
       "        [0.42525753],\n",
       "        [0.38315501],\n",
       "        [0.2363282 ],\n",
       "        [0.        ],\n",
       "        [0.11702412],\n",
       "        [0.05934693],\n",
       "        [0.44216047],\n",
       "        [0.39461302],\n",
       "        [0.39837657],\n",
       "        [0.27084254],\n",
       "        [0.30721997],\n",
       "        [0.37911489],\n",
       "        [0.27186135],\n",
       "        [0.20442769],\n",
       "        [0.28084562],\n",
       "        [0.31434942],\n",
       "        [0.25735093],\n",
       "        [0.31517893],\n",
       "        [0.28764457],\n",
       "        [0.41151642],\n",
       "        [0.36607394],\n",
       "        [0.57873918],\n",
       "        [0.58358755],\n",
       "        [0.59244091],\n",
       "        [0.5695956 ]]])"
      ]
     },
     "execution_count": 184,
     "metadata": {},
     "output_type": "execute_result"
    }
   ],
   "source": [
    "last_100"
   ]
  },
  {
   "cell_type": "code",
   "execution_count": 161,
   "id": "19c82b7d-78af-47e1-98b4-6e2832fd0839",
   "metadata": {},
   "outputs": [
    {
     "data": {
      "text/plain": [
       "(1, 100, 1)"
      ]
     },
     "execution_count": 161,
     "metadata": {},
     "output_type": "execute_result"
    }
   ],
   "source": [
    "last_100.shape"
   ]
  },
  {
   "cell_type": "code",
   "execution_count": null,
   "id": "0219931b-5777-4628-9f8f-35bb19cc5b14",
   "metadata": {},
   "outputs": [],
   "source": []
  },
  {
   "cell_type": "code",
   "execution_count": 162,
   "id": "8770ce6a-f42e-4f81-9505-d92b7f820a98",
   "metadata": {},
   "outputs": [
    {
     "name": "stdout",
     "output_type": "stream",
     "text": [
      "\u001b[1m1/1\u001b[0m \u001b[32m━━━━━━━━━━━━━━━━━━━━\u001b[0m\u001b[37m\u001b[0m \u001b[1m0s\u001b[0m 235ms/step\n"
     ]
    },
    {
     "data": {
      "text/plain": [
       "array([[0.5765512]], dtype=float32)"
      ]
     },
     "execution_count": 162,
     "metadata": {},
     "output_type": "execute_result"
    }
   ],
   "source": [
    "day101 = model.predict(last_100)\n",
    "day101"
   ]
  },
  {
   "cell_type": "code",
   "execution_count": 187,
   "id": "8262ed35-37a4-4b62-b2ad-eb43b5dd2e4d",
   "metadata": {},
   "outputs": [
    {
     "data": {
      "text/plain": [
       "array([[64056.16]], dtype=float32)"
      ]
     },
     "execution_count": 187,
     "metadata": {},
     "output_type": "execute_result"
    }
   ],
   "source": [
    "scaler.inverse_transform(day101)"
   ]
  },
  {
   "cell_type": "code",
   "execution_count": null,
   "id": "39f05a24-1f3e-4304-acd0-eedb2d8df9b6",
   "metadata": {},
   "outputs": [],
   "source": []
  },
  {
   "cell_type": "code",
   "execution_count": null,
   "id": "2d8c1d88-4ab6-422c-a916-98e494bcb42b",
   "metadata": {},
   "outputs": [],
   "source": [
    "# day 101 = 100 day previous = day 1 + ... + day 100 = past 100\n",
    "# day 102 = day 2 + .... + day 101 = day 101 + past 99\n",
    "# day 103 = day 3 + ... day 102 = day 101 + day 102 + past 98"
   ]
  },
  {
   "cell_type": "code",
   "execution_count": 185,
   "id": "2e20e03f-0db7-4837-89a1-688e6bda460d",
   "metadata": {},
   "outputs": [
    {
     "data": {
      "text/plain": [
       "(1, 100, 1)"
      ]
     },
     "execution_count": 185,
     "metadata": {},
     "output_type": "execute_result"
    }
   ],
   "source": [
    "last_100.shape"
   ]
  },
  {
   "cell_type": "code",
   "execution_count": null,
   "id": "cf4dc164-312c-4331-b7cc-c95da4ad922b",
   "metadata": {},
   "outputs": [],
   "source": []
  },
  {
   "cell_type": "code",
   "execution_count": 197,
   "id": "8f4bbca0-ae96-4991-b8bb-895878f59e8e",
   "metadata": {},
   "outputs": [],
   "source": [
    "def predict_future(no_of_days, prev_100):\n",
    "    future_predictions = []\n",
    "    for i in range(no_of_days):\n",
    "        # Dự đoán ngày tiếp theo từ mô hình\n",
    "        next_day = model.predict(prev_100)  # Không chuyển đổi thành danh sách\n",
    "\n",
    "        # Cập nhật prev_100: Loại bỏ phần tử đầu tiên và thêm next_day vào cuối\n",
    "        prev_100 = np.concatenate([prev_100[:, 1:, :], next_day.reshape(1, 1, -1)], axis=1)\n",
    "        \n",
    "        # Thêm dự đoán vào danh sách future_predictions\n",
    "        future_predictions.append(scaler.inverse_transform(next_day))\n",
    "    \n",
    "    return future_predictions"
   ]
  },
  {
   "cell_type": "code",
   "execution_count": 205,
   "id": "16f173be-7f18-4f07-8028-7a3de555e6e3",
   "metadata": {},
   "outputs": [
    {
     "name": "stdout",
     "output_type": "stream",
     "text": [
      "\u001b[1m1/1\u001b[0m \u001b[32m━━━━━━━━━━━━━━━━━━━━\u001b[0m\u001b[37m\u001b[0m \u001b[1m0s\u001b[0m 292ms/step\n",
      "\u001b[1m1/1\u001b[0m \u001b[32m━━━━━━━━━━━━━━━━━━━━\u001b[0m\u001b[37m\u001b[0m \u001b[1m0s\u001b[0m 47ms/step\n",
      "\u001b[1m1/1\u001b[0m \u001b[32m━━━━━━━━━━━━━━━━━━━━\u001b[0m\u001b[37m\u001b[0m \u001b[1m0s\u001b[0m 97ms/step\n",
      "\u001b[1m1/1\u001b[0m \u001b[32m━━━━━━━━━━━━━━━━━━━━\u001b[0m\u001b[37m\u001b[0m \u001b[1m0s\u001b[0m 93ms/step\n",
      "\u001b[1m1/1\u001b[0m \u001b[32m━━━━━━━━━━━━━━━━━━━━\u001b[0m\u001b[37m\u001b[0m \u001b[1m0s\u001b[0m 33ms/step\n",
      "\u001b[1m1/1\u001b[0m \u001b[32m━━━━━━━━━━━━━━━━━━━━\u001b[0m\u001b[37m\u001b[0m \u001b[1m0s\u001b[0m 64ms/step\n",
      "\u001b[1m1/1\u001b[0m \u001b[32m━━━━━━━━━━━━━━━━━━━━\u001b[0m\u001b[37m\u001b[0m \u001b[1m0s\u001b[0m 32ms/step\n",
      "\u001b[1m1/1\u001b[0m \u001b[32m━━━━━━━━━━━━━━━━━━━━\u001b[0m\u001b[37m\u001b[0m \u001b[1m0s\u001b[0m 66ms/step\n",
      "\u001b[1m1/1\u001b[0m \u001b[32m━━━━━━━━━━━━━━━━━━━━\u001b[0m\u001b[37m\u001b[0m \u001b[1m0s\u001b[0m 21ms/step\n",
      "\u001b[1m1/1\u001b[0m \u001b[32m━━━━━━━━━━━━━━━━━━━━\u001b[0m\u001b[37m\u001b[0m \u001b[1m0s\u001b[0m 46ms/step\n",
      "[array([[64056.16]], dtype=float32), array([[64176.15]], dtype=float32), array([[64269.996]], dtype=float32), array([[64348.99]], dtype=float32), array([[64420.617]], dtype=float32), array([[64490.85]], dtype=float32), array([[64564.01]], dtype=float32), array([[64642.855]], dtype=float32), array([[64728.914]], dtype=float32), array([[64822.766]], dtype=float32)]\n"
     ]
    }
   ],
   "source": [
    "no_of_days = 10\n",
    "future_result = predict_future(no_of_days, last_100)\n",
    "print(future_result)"
   ]
  },
  {
   "cell_type": "code",
   "execution_count": null,
   "id": "d595233f-1fb5-47cc-995c-20d4a55b54b8",
   "metadata": {},
   "outputs": [],
   "source": []
  },
  {
   "cell_type": "code",
   "execution_count": 206,
   "id": "22536155-faea-40bd-9908-c27f5141929f",
   "metadata": {},
   "outputs": [],
   "source": [
    "future_result = np.array(future_result).reshape(-1, 1)"
   ]
  },
  {
   "cell_type": "code",
   "execution_count": 207,
   "id": "629b376f-e123-4a55-87ed-fcee9fbcfe7e",
   "metadata": {},
   "outputs": [
    {
     "data": {
      "text/plain": [
       "array([[64056.16 ],\n",
       "       [64176.15 ],\n",
       "       [64269.996],\n",
       "       [64348.99 ],\n",
       "       [64420.617],\n",
       "       [64490.85 ],\n",
       "       [64564.01 ],\n",
       "       [64642.855],\n",
       "       [64728.914],\n",
       "       [64822.766]], dtype=float32)"
      ]
     },
     "execution_count": 207,
     "metadata": {},
     "output_type": "execute_result"
    }
   ],
   "source": [
    "future_result"
   ]
  },
  {
   "cell_type": "code",
   "execution_count": null,
   "id": "21b1e9fb-90a9-46c1-9633-58cfd4901302",
   "metadata": {},
   "outputs": [],
   "source": []
  },
  {
   "cell_type": "code",
   "execution_count": 209,
   "id": "35abed1e-ba85-4880-87df-43c2768cd88c",
   "metadata": {},
   "outputs": [
    {
     "data": {
      "text/plain": [
       "Text(0.5, 1.0, 'Feture Close Price of Bit Coin')"
      ]
     },
     "execution_count": 209,
     "metadata": {},
     "output_type": "execute_result"
    },
    {
     "data": {
      "text/plain": [
       "<Figure size 640x480 with 0 Axes>"
      ]
     },
     "metadata": {},
     "output_type": "display_data"
    },
    {
     "data": {
      "image/png": "[encoded data removed]",
      "text/plain": [
       "<Figure size 1500x500 with 1 Axes>"
      ]
     },
     "metadata": {},
     "output_type": "display_data"
    }
   ],
   "source": [
    "plt.figure()\n",
    "pd.DataFrame(future_result).plot(figsize = (15,5), marker = \"o\")\n",
    "for i in range(len(future_result)):\n",
    "    plt.text(i, future_result[i], int(future_result[i][0]))\n",
    "plt.xlabel(\"Future Days\")\n",
    "plt.ylabel(\"Close Price\")\n",
    "plt.title(\"Feture Close Price of Bit Coin\")"
   ]
  },
  {
   "cell_type": "code",
   "execution_count": null,
   "id": "1cb76d65-b9f7-481a-8558-66d88bcf28ee",
   "metadata": {},
   "outputs": [],
   "source": []
  },
  {
   "cell_type": "code",
   "execution_count": 204,
   "id": "62c1d83f-6769-461e-923b-9679ab7a4302",
   "metadata": {},
   "outputs": [],
   "source": [
    "model.save(\"Latest_Bitcoin_Model.keras\")"
   ]
  },
  {
   "cell_type": "code",
   "execution_count": null,
   "id": "2123b22e-789b-4265-8a9d-04c2866623db",
   "metadata": {},
   "outputs": [],
   "source": []
  }
 ],
 "metadata": {
  "kernelspec": {
   "display_name": "Python 3 (ipykernel)",
   "language": "python",
   "name": "python3"
  },
  "language_info": {
   "codemirror_mode": {
    "name": "ipython",
    "version": 3
   },
   "file_extension": ".py",
   "mimetype": "text/x-python",
   "name": "python",
   "nbconvert_exporter": "python",
   "pygments_lexer": "ipython3",
   "version": "3.11.7"
  },
  "widgets": {
   "application/vnd.jupyter.widget-state+json": {
    "state": {},
    "version_major": 2,
    "version_minor": 0
   }
  }
 },
 "nbformat": 4,
 "nbformat_minor": 5
}
